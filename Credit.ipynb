{
 "cells": [
  {
   "cell_type": "code",
   "execution_count": 1,
   "metadata": {},
   "outputs": [
    {
     "name": "stdout",
     "output_type": "stream",
     "text": [
      "Pixiedust database opened successfully\n"
     ]
    },
    {
     "data": {
      "text/html": [
       "\n",
       "        <div style=\"margin:10px\">\n",
       "            <a href=\"https://github.com/ibm-watson-data-lab/pixiedust\" target=\"_new\">\n",
       "                <img src=\"https://github.com/ibm-watson-data-lab/pixiedust/raw/master/docs/_static/pd_icon32.png\" style=\"float:left;margin-right:10px\"/>\n",
       "            </a>\n",
       "            <span>Pixiedust version 1.1.15</span>\n",
       "        </div>\n",
       "        "
      ],
      "text/plain": [
       "<IPython.core.display.HTML object>"
      ]
     },
     "metadata": {},
     "output_type": "display_data"
    }
   ],
   "source": [
    "# Base\n",
    "import pandas as pd\n",
    "import numpy as np\n",
    "import random as rnd\n",
    "from math import floor\n",
    "import pickle\n",
    "from Myfunctions import *\n",
    "# from Myfunctions import repmiss\n",
    "# from Myfunctions import showmiss\n",
    "# from Myfunctions import get_best_score\n",
    "# from scrpt1 import *\n",
    "\n",
    "# visualization\n",
    "import seaborn as sns\n",
    "import matplotlib.pyplot as plt\n",
    "from matplotlib import pyplot\n",
    "from scipy import stats\n",
    "from scipy.stats import norm\n",
    "%matplotlib inline\n",
    "\n",
    "# Data Engineering\n",
    "from sklearn.decomposition import PCA, KernelPCA\n",
    "from sklearn.pipeline import Pipeline, make_pipeline\n",
    "from sklearn.preprocessing import OneHotEncoder,LabelEncoder,RobustScaler,StandardScaler,MinMaxScaler\n",
    "from sklearn.externals import joblib\n",
    "\n",
    "# Debug\n",
    "import sys\n",
    "import pixiedust\n",
    "\n",
    "# machine learning classification\n",
    "from sklearn.linear_model import LogisticRegression\n",
    "from sklearn.svm import SVC, LinearSVC\n",
    "from sklearn.ensemble import RandomForestClassifier\n",
    "from sklearn.neighbors import KNeighborsClassifier\n",
    "from sklearn.naive_bayes import GaussianNB\n",
    "from sklearn.linear_model import Perceptron,SGDClassifier\n",
    "from sklearn.tree import DecisionTreeClassifier\n",
    "from sklearn import preprocessing\n",
    "from sklearn.model_selection import train_test_split\n",
    "from sklearn.neural_network import MLPClassifier\n",
    "import lightgbm as lgb\n",
    "\n",
    "# machine learning regression\n",
    "from sklearn.linear_model import LinearRegression,ElasticNet,Lasso,BayesianRidge,LassoLarsIC\n",
    "from sklearn.linear_model import Ridge, RidgeCV, ElasticNet, LassoCV, LassoLarsCV\n",
    "from sklearn.ensemble import RandomForestRegressor,GradientBoostingRegressor\n",
    "from sklearn.kernel_ridge import KernelRidge\n",
    "from sklearn.base import BaseEstimator,TransformerMixin,RegressorMixin,clone\n",
    "import xgboost as xgb\n",
    "from xgboost import XGBClassifier\n",
    "from xgboost import plot_importance\n",
    "\n",
    "#Model Validation\n",
    "from sklearn.metrics import confusion_matrix,precision_recall_curve,roc_curve,auc,roc_auc_score,f1_score,make_scorer\n",
    "from sklearn.metrics import classification_report\n",
    "from sklearn import datasets\n",
    "from sklearn.model_selection import learning_curve\n",
    "from sklearn.model_selection import validation_curve\n",
    "from sklearn.model_selection import GridSearchCV,KFold,cross_val_score,train_test_split\n",
    "from sklearn.metrics import mean_squared_error\n",
    "from sklearn.feature_selection import SelectKBest, f_classif,f_regression\n",
    "from sklearn.pipeline import make_pipeline\n",
    "from sklearn.utils.fixes import signature\n",
    "\n",
    "import warnings\n",
    "def ignore_warn(*args, **kwargs):\n",
    "    pass\n",
    "warnings.warn = ignore_warn #ignore annoying warning (from sklearn and seaborn)\n"
   ]
  },
  {
   "cell_type": "code",
   "execution_count": 2,
   "metadata": {},
   "outputs": [],
   "source": [
    "train_df = pd.read_csv(r\"C:\\Users\\kuangj\\Desktop\\Python\\Credit\\input\\train.csv\")\n",
    "test_df = pd.read_csv(r\"C:\\Users\\kuangj\\Desktop\\Python\\Credit\\input\\test.csv\")"
   ]
  },
  {
   "cell_type": "code",
   "execution_count": 3,
   "metadata": {},
   "outputs": [],
   "source": [
    "# General Setup\n",
    "train_df=train_df.rename(columns = {'SK_ID_CURR':'ID'})\n",
    "test_df=test_df.rename(columns = {'SK_ID_CURR':'ID'})"
   ]
  },
  {
   "cell_type": "code",
   "execution_count": 4,
   "metadata": {},
   "outputs": [
    {
     "name": "stdout",
     "output_type": "stream",
     "text": [
      "Train Size (307511, 122)\n",
      "Test Size (48744, 121)\n"
     ]
    }
   ],
   "source": [
    "print(\"Train Size\",train_df.shape)\n",
    "print(\"Test Size\",test_df.shape)\n",
    "trainsize=train_df.shape[0]\n",
    "train_df.head()\n",
    "train_df.head().to_csv('checkhead.csv',index=True)\n",
    "# print(train_df.dtypes)\n",
    "# print(train_df.columns)\n",
    "# print(test_df.columns)"
   ]
  },
  {
   "cell_type": "code",
   "execution_count": 5,
   "metadata": {
    "pixiedust": {
     "displayParams": {}
    }
   },
   "outputs": [
    {
     "data": {
      "image/png": "[encoded data removed]",
      "text/plain": [
       "<Figure size 432x288 with 1 Axes>"
      ]
     },
     "metadata": {
      "needs_background": "light"
     },
     "output_type": "display_data"
    },
    {
     "data": {
      "text/html": [
       "<div>\n",
       "<style scoped>\n",
       "    .dataframe tbody tr th:only-of-type {\n",
       "        vertical-align: middle;\n",
       "    }\n",
       "\n",
       "    .dataframe tbody tr th {\n",
       "        vertical-align: top;\n",
       "    }\n",
       "\n",
       "    .dataframe thead th {\n",
       "        text-align: right;\n",
       "    }\n",
       "</style>\n",
       "<table border=\"1\" class=\"dataframe\">\n",
       "  <thead>\n",
       "    <tr style=\"text-align: right;\">\n",
       "      <th></th>\n",
       "      <th>Count</th>\n",
       "      <th>Percent</th>\n",
       "    </tr>\n",
       "    <tr>\n",
       "      <th>TARGET</th>\n",
       "      <th></th>\n",
       "      <th></th>\n",
       "    </tr>\n",
       "  </thead>\n",
       "  <tbody>\n",
       "    <tr>\n",
       "      <th>0</th>\n",
       "      <td>282686</td>\n",
       "      <td>0.919271</td>\n",
       "    </tr>\n",
       "    <tr>\n",
       "      <th>1</th>\n",
       "      <td>24825</td>\n",
       "      <td>0.080729</td>\n",
       "    </tr>\n",
       "  </tbody>\n",
       "</table>\n",
       "</div>"
      ],
      "text/plain": [
       "         Count   Percent\n",
       "TARGET                  \n",
       "0       282686  0.919271\n",
       "1        24825  0.080729"
      ]
     },
     "execution_count": 5,
     "metadata": {},
     "output_type": "execute_result"
    }
   ],
   "source": [
    "# %%pixie_debugger\n",
    "target=['TARGET']\n",
    "yTarget=train_df[target]\n",
    "ax=sns.countplot(x=\"TARGET\",data=yTarget)\n",
    "plt.show()\n",
    "\n",
    "tab=pd.DataFrame(train_df.groupby(target).size(),columns=['Count'])\n",
    "tab['Percent']=tab.Count/tab.Count.sum()\n",
    "ratio=tab['Percent'][0]/tab['Percent'][1]\n",
    "tab"
   ]
  },
  {
   "cell_type": "code",
   "execution_count": 6,
   "metadata": {},
   "outputs": [],
   "source": [
    "train_cdf=train_df.drop(columns=target).copy(deep=True)\n",
    "combine = train_cdf.append(test_df)\n",
    "combine.shape\n",
    "wr=combine.describe()\n",
    "wr.T.to_csv('wrcombine.csv',index=True)"
   ]
  },
  {
   "cell_type": "code",
   "execution_count": 7,
   "metadata": {},
   "outputs": [],
   "source": [
    "# Project specific\n",
    "combine['DAYS_BIRTH']=combine['DAYS_BIRTH']/-365\n",
    "combine['DAYS_EMPLOYED']=combine['DAYS_EMPLOYED']/-365\n",
    "combine['DAYS_REGISTRATION']=combine['DAYS_REGISTRATION']/-365\n",
    "combine['DAYS_ID_PUBLISH']=combine['DAYS_ID_PUBLISH']/-365\n",
    "combine['DAYS_LAST_PHONE_CHANGE']=combine['DAYS_LAST_PHONE_CHANGE']/-365\n"
   ]
  },
  {
   "cell_type": "code",
   "execution_count": 8,
   "metadata": {},
   "outputs": [],
   "source": [
    "# log transform\n",
    "listtrans=['AMT_INCOME_TOTAL','AMT_CREDIT','AMT_ANNUITY','AMT_GOODS_PRICE']\n",
    "combine[listtrans]=np.log(combine[listtrans])"
   ]
  },
  {
   "cell_type": "code",
   "execution_count": 9,
   "metadata": {},
   "outputs": [
    {
     "name": "stdout",
     "output_type": "stream",
     "text": [
      "6.532023 years is used in employment replacement\n"
     ]
    },
    {
     "data": {
      "image/png": "[encoded data removed]",
      "text/plain": [
       "<Figure size 432x288 with 1 Axes>"
      ]
     },
     "metadata": {
      "needs_background": "light"
     },
     "output_type": "display_data"
    }
   ],
   "source": [
    "# Project specific\n",
    "combine['DAYS_EMPLOYED'].plot.hist(title = 'Days Employment Histogram');\n",
    "plt.xlabel('Days Employment');\n",
    "combine['DAYS_EMPLOYED'].to_csv('checkcol.csv',index=True)\n",
    "replaceDE=train_df[train_df['DAYS_EMPLOYED']<0].DAYS_EMPLOYED.mean()/-365\n",
    "print('%f years is used in employment replacement' % replaceDE)"
   ]
  },
  {
   "cell_type": "code",
   "execution_count": 10,
   "metadata": {},
   "outputs": [],
   "source": [
    "# Project specific\n",
    "#Replace employment greater than zero with mean\n",
    "combine.loc[combine['DAYS_EMPLOYED'] <0, 'DAYS_EMPLOYED'] = replaceDE\n",
    "combine['DAYS_EMPLOYED'].to_csv('wrcombine.csv',index=True)"
   ]
  },
  {
   "cell_type": "code",
   "execution_count": 11,
   "metadata": {},
   "outputs": [
    {
     "data": {
      "text/html": [
       "<div>\n",
       "<style scoped>\n",
       "    .dataframe tbody tr th:only-of-type {\n",
       "        vertical-align: middle;\n",
       "    }\n",
       "\n",
       "    .dataframe tbody tr th {\n",
       "        vertical-align: top;\n",
       "    }\n",
       "\n",
       "    .dataframe thead th {\n",
       "        text-align: right;\n",
       "    }\n",
       "</style>\n",
       "<table border=\"1\" class=\"dataframe\">\n",
       "  <thead>\n",
       "    <tr style=\"text-align: right;\">\n",
       "      <th></th>\n",
       "      <th>Total</th>\n",
       "      <th>Miss</th>\n",
       "      <th>Percent</th>\n",
       "      <th>Datatype</th>\n",
       "    </tr>\n",
       "  </thead>\n",
       "  <tbody>\n",
       "    <tr>\n",
       "      <th>COMMONAREA_MODE</th>\n",
       "      <td>356255</td>\n",
       "      <td>248360</td>\n",
       "      <td>0.697141</td>\n",
       "      <td>float64</td>\n",
       "    </tr>\n",
       "    <tr>\n",
       "      <th>COMMONAREA_MEDI</th>\n",
       "      <td>356255</td>\n",
       "      <td>248360</td>\n",
       "      <td>0.697141</td>\n",
       "      <td>float64</td>\n",
       "    </tr>\n",
       "    <tr>\n",
       "      <th>COMMONAREA_AVG</th>\n",
       "      <td>356255</td>\n",
       "      <td>248360</td>\n",
       "      <td>0.697141</td>\n",
       "      <td>float64</td>\n",
       "    </tr>\n",
       "    <tr>\n",
       "      <th>NONLIVINGAPARTMENTS_MODE</th>\n",
       "      <td>356255</td>\n",
       "      <td>246861</td>\n",
       "      <td>0.692933</td>\n",
       "      <td>float64</td>\n",
       "    </tr>\n",
       "    <tr>\n",
       "      <th>NONLIVINGAPARTMENTS_MEDI</th>\n",
       "      <td>356255</td>\n",
       "      <td>246861</td>\n",
       "      <td>0.692933</td>\n",
       "      <td>float64</td>\n",
       "    </tr>\n",
       "    <tr>\n",
       "      <th>NONLIVINGAPARTMENTS_AVG</th>\n",
       "      <td>356255</td>\n",
       "      <td>246861</td>\n",
       "      <td>0.692933</td>\n",
       "      <td>float64</td>\n",
       "    </tr>\n",
       "    <tr>\n",
       "      <th>FONDKAPREMONT_MODE</th>\n",
       "      <td>356255</td>\n",
       "      <td>243092</td>\n",
       "      <td>0.682354</td>\n",
       "      <td>object</td>\n",
       "    </tr>\n",
       "    <tr>\n",
       "      <th>LIVINGAPARTMENTS_MODE</th>\n",
       "      <td>356255</td>\n",
       "      <td>242979</td>\n",
       "      <td>0.682037</td>\n",
       "      <td>float64</td>\n",
       "    </tr>\n",
       "    <tr>\n",
       "      <th>LIVINGAPARTMENTS_MEDI</th>\n",
       "      <td>356255</td>\n",
       "      <td>242979</td>\n",
       "      <td>0.682037</td>\n",
       "      <td>float64</td>\n",
       "    </tr>\n",
       "    <tr>\n",
       "      <th>LIVINGAPARTMENTS_AVG</th>\n",
       "      <td>356255</td>\n",
       "      <td>242979</td>\n",
       "      <td>0.682037</td>\n",
       "      <td>float64</td>\n",
       "    </tr>\n",
       "    <tr>\n",
       "      <th>FLOORSMIN_AVG</th>\n",
       "      <td>356255</td>\n",
       "      <td>241108</td>\n",
       "      <td>0.676785</td>\n",
       "      <td>float64</td>\n",
       "    </tr>\n",
       "    <tr>\n",
       "      <th>FLOORSMIN_MEDI</th>\n",
       "      <td>356255</td>\n",
       "      <td>241108</td>\n",
       "      <td>0.676785</td>\n",
       "      <td>float64</td>\n",
       "    </tr>\n",
       "    <tr>\n",
       "      <th>FLOORSMIN_MODE</th>\n",
       "      <td>356255</td>\n",
       "      <td>241108</td>\n",
       "      <td>0.676785</td>\n",
       "      <td>float64</td>\n",
       "    </tr>\n",
       "    <tr>\n",
       "      <th>YEARS_BUILD_AVG</th>\n",
       "      <td>356255</td>\n",
       "      <td>236306</td>\n",
       "      <td>0.663306</td>\n",
       "      <td>float64</td>\n",
       "    </tr>\n",
       "    <tr>\n",
       "      <th>YEARS_BUILD_MODE</th>\n",
       "      <td>356255</td>\n",
       "      <td>236306</td>\n",
       "      <td>0.663306</td>\n",
       "      <td>float64</td>\n",
       "    </tr>\n",
       "    <tr>\n",
       "      <th>YEARS_BUILD_MEDI</th>\n",
       "      <td>356255</td>\n",
       "      <td>236306</td>\n",
       "      <td>0.663306</td>\n",
       "      <td>float64</td>\n",
       "    </tr>\n",
       "    <tr>\n",
       "      <th>OWN_CAR_AGE</th>\n",
       "      <td>356255</td>\n",
       "      <td>235241</td>\n",
       "      <td>0.660316</td>\n",
       "      <td>float64</td>\n",
       "    </tr>\n",
       "    <tr>\n",
       "      <th>LANDAREA_MEDI</th>\n",
       "      <td>356255</td>\n",
       "      <td>210844</td>\n",
       "      <td>0.591835</td>\n",
       "      <td>float64</td>\n",
       "    </tr>\n",
       "    <tr>\n",
       "      <th>LANDAREA_MODE</th>\n",
       "      <td>356255</td>\n",
       "      <td>210844</td>\n",
       "      <td>0.591835</td>\n",
       "      <td>float64</td>\n",
       "    </tr>\n",
       "    <tr>\n",
       "      <th>LANDAREA_AVG</th>\n",
       "      <td>356255</td>\n",
       "      <td>210844</td>\n",
       "      <td>0.591835</td>\n",
       "      <td>float64</td>\n",
       "    </tr>\n",
       "    <tr>\n",
       "      <th>BASEMENTAREA_MODE</th>\n",
       "      <td>356255</td>\n",
       "      <td>207584</td>\n",
       "      <td>0.582684</td>\n",
       "      <td>float64</td>\n",
       "    </tr>\n",
       "    <tr>\n",
       "      <th>BASEMENTAREA_AVG</th>\n",
       "      <td>356255</td>\n",
       "      <td>207584</td>\n",
       "      <td>0.582684</td>\n",
       "      <td>float64</td>\n",
       "    </tr>\n",
       "    <tr>\n",
       "      <th>BASEMENTAREA_MEDI</th>\n",
       "      <td>356255</td>\n",
       "      <td>207584</td>\n",
       "      <td>0.582684</td>\n",
       "      <td>float64</td>\n",
       "    </tr>\n",
       "    <tr>\n",
       "      <th>NONLIVINGAREA_AVG</th>\n",
       "      <td>356255</td>\n",
       "      <td>195766</td>\n",
       "      <td>0.549511</td>\n",
       "      <td>float64</td>\n",
       "    </tr>\n",
       "    <tr>\n",
       "      <th>NONLIVINGAREA_MODE</th>\n",
       "      <td>356255</td>\n",
       "      <td>195766</td>\n",
       "      <td>0.549511</td>\n",
       "      <td>float64</td>\n",
       "    </tr>\n",
       "    <tr>\n",
       "      <th>NONLIVINGAREA_MEDI</th>\n",
       "      <td>356255</td>\n",
       "      <td>195766</td>\n",
       "      <td>0.549511</td>\n",
       "      <td>float64</td>\n",
       "    </tr>\n",
       "    <tr>\n",
       "      <th>EXT_SOURCE_1</th>\n",
       "      <td>356255</td>\n",
       "      <td>193910</td>\n",
       "      <td>0.544301</td>\n",
       "      <td>float64</td>\n",
       "    </tr>\n",
       "    <tr>\n",
       "      <th>ELEVATORS_AVG</th>\n",
       "      <td>356255</td>\n",
       "      <td>189080</td>\n",
       "      <td>0.530743</td>\n",
       "      <td>float64</td>\n",
       "    </tr>\n",
       "    <tr>\n",
       "      <th>ELEVATORS_MEDI</th>\n",
       "      <td>356255</td>\n",
       "      <td>189080</td>\n",
       "      <td>0.530743</td>\n",
       "      <td>float64</td>\n",
       "    </tr>\n",
       "    <tr>\n",
       "      <th>ELEVATORS_MODE</th>\n",
       "      <td>356255</td>\n",
       "      <td>189080</td>\n",
       "      <td>0.530743</td>\n",
       "      <td>float64</td>\n",
       "    </tr>\n",
       "    <tr>\n",
       "      <th>...</th>\n",
       "      <td>...</td>\n",
       "      <td>...</td>\n",
       "      <td>...</td>\n",
       "      <td>...</td>\n",
       "    </tr>\n",
       "    <tr>\n",
       "      <th>HOUSETYPE_MODE</th>\n",
       "      <td>356255</td>\n",
       "      <td>177916</td>\n",
       "      <td>0.499406</td>\n",
       "      <td>object</td>\n",
       "    </tr>\n",
       "    <tr>\n",
       "      <th>LIVINGAREA_MODE</th>\n",
       "      <td>356255</td>\n",
       "      <td>177902</td>\n",
       "      <td>0.499367</td>\n",
       "      <td>float64</td>\n",
       "    </tr>\n",
       "    <tr>\n",
       "      <th>LIVINGAREA_AVG</th>\n",
       "      <td>356255</td>\n",
       "      <td>177902</td>\n",
       "      <td>0.499367</td>\n",
       "      <td>float64</td>\n",
       "    </tr>\n",
       "    <tr>\n",
       "      <th>LIVINGAREA_MEDI</th>\n",
       "      <td>356255</td>\n",
       "      <td>177902</td>\n",
       "      <td>0.499367</td>\n",
       "      <td>float64</td>\n",
       "    </tr>\n",
       "    <tr>\n",
       "      <th>FLOORSMAX_MODE</th>\n",
       "      <td>356255</td>\n",
       "      <td>176341</td>\n",
       "      <td>0.494985</td>\n",
       "      <td>float64</td>\n",
       "    </tr>\n",
       "    <tr>\n",
       "      <th>FLOORSMAX_MEDI</th>\n",
       "      <td>356255</td>\n",
       "      <td>176341</td>\n",
       "      <td>0.494985</td>\n",
       "      <td>float64</td>\n",
       "    </tr>\n",
       "    <tr>\n",
       "      <th>FLOORSMAX_AVG</th>\n",
       "      <td>356255</td>\n",
       "      <td>176341</td>\n",
       "      <td>0.494985</td>\n",
       "      <td>float64</td>\n",
       "    </tr>\n",
       "    <tr>\n",
       "      <th>YEARS_BEGINEXPLUATATION_AVG</th>\n",
       "      <td>356255</td>\n",
       "      <td>172863</td>\n",
       "      <td>0.485223</td>\n",
       "      <td>float64</td>\n",
       "    </tr>\n",
       "    <tr>\n",
       "      <th>YEARS_BEGINEXPLUATATION_MODE</th>\n",
       "      <td>356255</td>\n",
       "      <td>172863</td>\n",
       "      <td>0.485223</td>\n",
       "      <td>float64</td>\n",
       "    </tr>\n",
       "    <tr>\n",
       "      <th>YEARS_BEGINEXPLUATATION_MEDI</th>\n",
       "      <td>356255</td>\n",
       "      <td>172863</td>\n",
       "      <td>0.485223</td>\n",
       "      <td>float64</td>\n",
       "    </tr>\n",
       "    <tr>\n",
       "      <th>TOTALAREA_MODE</th>\n",
       "      <td>356255</td>\n",
       "      <td>171055</td>\n",
       "      <td>0.480148</td>\n",
       "      <td>float64</td>\n",
       "    </tr>\n",
       "    <tr>\n",
       "      <th>EMERGENCYSTATE_MODE</th>\n",
       "      <td>356255</td>\n",
       "      <td>167964</td>\n",
       "      <td>0.471471</td>\n",
       "      <td>object</td>\n",
       "    </tr>\n",
       "    <tr>\n",
       "      <th>OCCUPATION_TYPE</th>\n",
       "      <td>356255</td>\n",
       "      <td>111996</td>\n",
       "      <td>0.314370</td>\n",
       "      <td>object</td>\n",
       "    </tr>\n",
       "    <tr>\n",
       "      <th>EXT_SOURCE_3</th>\n",
       "      <td>356255</td>\n",
       "      <td>69633</td>\n",
       "      <td>0.195458</td>\n",
       "      <td>float64</td>\n",
       "    </tr>\n",
       "    <tr>\n",
       "      <th>AMT_REQ_CREDIT_BUREAU_YEAR</th>\n",
       "      <td>356255</td>\n",
       "      <td>47568</td>\n",
       "      <td>0.133522</td>\n",
       "      <td>float64</td>\n",
       "    </tr>\n",
       "    <tr>\n",
       "      <th>AMT_REQ_CREDIT_BUREAU_WEEK</th>\n",
       "      <td>356255</td>\n",
       "      <td>47568</td>\n",
       "      <td>0.133522</td>\n",
       "      <td>float64</td>\n",
       "    </tr>\n",
       "    <tr>\n",
       "      <th>AMT_REQ_CREDIT_BUREAU_QRT</th>\n",
       "      <td>356255</td>\n",
       "      <td>47568</td>\n",
       "      <td>0.133522</td>\n",
       "      <td>float64</td>\n",
       "    </tr>\n",
       "    <tr>\n",
       "      <th>AMT_REQ_CREDIT_BUREAU_MON</th>\n",
       "      <td>356255</td>\n",
       "      <td>47568</td>\n",
       "      <td>0.133522</td>\n",
       "      <td>float64</td>\n",
       "    </tr>\n",
       "    <tr>\n",
       "      <th>AMT_REQ_CREDIT_BUREAU_HOUR</th>\n",
       "      <td>356255</td>\n",
       "      <td>47568</td>\n",
       "      <td>0.133522</td>\n",
       "      <td>float64</td>\n",
       "    </tr>\n",
       "    <tr>\n",
       "      <th>AMT_REQ_CREDIT_BUREAU_DAY</th>\n",
       "      <td>356255</td>\n",
       "      <td>47568</td>\n",
       "      <td>0.133522</td>\n",
       "      <td>float64</td>\n",
       "    </tr>\n",
       "    <tr>\n",
       "      <th>NAME_TYPE_SUITE</th>\n",
       "      <td>356255</td>\n",
       "      <td>2203</td>\n",
       "      <td>0.006184</td>\n",
       "      <td>object</td>\n",
       "    </tr>\n",
       "    <tr>\n",
       "      <th>DEF_60_CNT_SOCIAL_CIRCLE</th>\n",
       "      <td>356255</td>\n",
       "      <td>1050</td>\n",
       "      <td>0.002947</td>\n",
       "      <td>float64</td>\n",
       "    </tr>\n",
       "    <tr>\n",
       "      <th>DEF_30_CNT_SOCIAL_CIRCLE</th>\n",
       "      <td>356255</td>\n",
       "      <td>1050</td>\n",
       "      <td>0.002947</td>\n",
       "      <td>float64</td>\n",
       "    </tr>\n",
       "    <tr>\n",
       "      <th>OBS_60_CNT_SOCIAL_CIRCLE</th>\n",
       "      <td>356255</td>\n",
       "      <td>1050</td>\n",
       "      <td>0.002947</td>\n",
       "      <td>float64</td>\n",
       "    </tr>\n",
       "    <tr>\n",
       "      <th>OBS_30_CNT_SOCIAL_CIRCLE</th>\n",
       "      <td>356255</td>\n",
       "      <td>1050</td>\n",
       "      <td>0.002947</td>\n",
       "      <td>float64</td>\n",
       "    </tr>\n",
       "    <tr>\n",
       "      <th>EXT_SOURCE_2</th>\n",
       "      <td>356255</td>\n",
       "      <td>668</td>\n",
       "      <td>0.001875</td>\n",
       "      <td>float64</td>\n",
       "    </tr>\n",
       "    <tr>\n",
       "      <th>AMT_GOODS_PRICE</th>\n",
       "      <td>356255</td>\n",
       "      <td>278</td>\n",
       "      <td>0.000780</td>\n",
       "      <td>float64</td>\n",
       "    </tr>\n",
       "    <tr>\n",
       "      <th>AMT_ANNUITY</th>\n",
       "      <td>356255</td>\n",
       "      <td>36</td>\n",
       "      <td>0.000101</td>\n",
       "      <td>float64</td>\n",
       "    </tr>\n",
       "    <tr>\n",
       "      <th>CNT_FAM_MEMBERS</th>\n",
       "      <td>356255</td>\n",
       "      <td>2</td>\n",
       "      <td>0.000006</td>\n",
       "      <td>float64</td>\n",
       "    </tr>\n",
       "    <tr>\n",
       "      <th>DAYS_LAST_PHONE_CHANGE</th>\n",
       "      <td>356255</td>\n",
       "      <td>1</td>\n",
       "      <td>0.000003</td>\n",
       "      <td>float64</td>\n",
       "    </tr>\n",
       "  </tbody>\n",
       "</table>\n",
       "<p>67 rows × 4 columns</p>\n",
       "</div>"
      ],
      "text/plain": [
       "                               Total    Miss   Percent Datatype\n",
       "COMMONAREA_MODE               356255  248360  0.697141  float64\n",
       "COMMONAREA_MEDI               356255  248360  0.697141  float64\n",
       "COMMONAREA_AVG                356255  248360  0.697141  float64\n",
       "NONLIVINGAPARTMENTS_MODE      356255  246861  0.692933  float64\n",
       "NONLIVINGAPARTMENTS_MEDI      356255  246861  0.692933  float64\n",
       "NONLIVINGAPARTMENTS_AVG       356255  246861  0.692933  float64\n",
       "FONDKAPREMONT_MODE            356255  243092  0.682354   object\n",
       "LIVINGAPARTMENTS_MODE         356255  242979  0.682037  float64\n",
       "LIVINGAPARTMENTS_MEDI         356255  242979  0.682037  float64\n",
       "LIVINGAPARTMENTS_AVG          356255  242979  0.682037  float64\n",
       "FLOORSMIN_AVG                 356255  241108  0.676785  float64\n",
       "FLOORSMIN_MEDI                356255  241108  0.676785  float64\n",
       "FLOORSMIN_MODE                356255  241108  0.676785  float64\n",
       "YEARS_BUILD_AVG               356255  236306  0.663306  float64\n",
       "YEARS_BUILD_MODE              356255  236306  0.663306  float64\n",
       "YEARS_BUILD_MEDI              356255  236306  0.663306  float64\n",
       "OWN_CAR_AGE                   356255  235241  0.660316  float64\n",
       "LANDAREA_MEDI                 356255  210844  0.591835  float64\n",
       "LANDAREA_MODE                 356255  210844  0.591835  float64\n",
       "LANDAREA_AVG                  356255  210844  0.591835  float64\n",
       "BASEMENTAREA_MODE             356255  207584  0.582684  float64\n",
       "BASEMENTAREA_AVG              356255  207584  0.582684  float64\n",
       "BASEMENTAREA_MEDI             356255  207584  0.582684  float64\n",
       "NONLIVINGAREA_AVG             356255  195766  0.549511  float64\n",
       "NONLIVINGAREA_MODE            356255  195766  0.549511  float64\n",
       "NONLIVINGAREA_MEDI            356255  195766  0.549511  float64\n",
       "EXT_SOURCE_1                  356255  193910  0.544301  float64\n",
       "ELEVATORS_AVG                 356255  189080  0.530743  float64\n",
       "ELEVATORS_MEDI                356255  189080  0.530743  float64\n",
       "ELEVATORS_MODE                356255  189080  0.530743  float64\n",
       "...                              ...     ...       ...      ...\n",
       "HOUSETYPE_MODE                356255  177916  0.499406   object\n",
       "LIVINGAREA_MODE               356255  177902  0.499367  float64\n",
       "LIVINGAREA_AVG                356255  177902  0.499367  float64\n",
       "LIVINGAREA_MEDI               356255  177902  0.499367  float64\n",
       "FLOORSMAX_MODE                356255  176341  0.494985  float64\n",
       "FLOORSMAX_MEDI                356255  176341  0.494985  float64\n",
       "FLOORSMAX_AVG                 356255  176341  0.494985  float64\n",
       "YEARS_BEGINEXPLUATATION_AVG   356255  172863  0.485223  float64\n",
       "YEARS_BEGINEXPLUATATION_MODE  356255  172863  0.485223  float64\n",
       "YEARS_BEGINEXPLUATATION_MEDI  356255  172863  0.485223  float64\n",
       "TOTALAREA_MODE                356255  171055  0.480148  float64\n",
       "EMERGENCYSTATE_MODE           356255  167964  0.471471   object\n",
       "OCCUPATION_TYPE               356255  111996  0.314370   object\n",
       "EXT_SOURCE_3                  356255   69633  0.195458  float64\n",
       "AMT_REQ_CREDIT_BUREAU_YEAR    356255   47568  0.133522  float64\n",
       "AMT_REQ_CREDIT_BUREAU_WEEK    356255   47568  0.133522  float64\n",
       "AMT_REQ_CREDIT_BUREAU_QRT     356255   47568  0.133522  float64\n",
       "AMT_REQ_CREDIT_BUREAU_MON     356255   47568  0.133522  float64\n",
       "AMT_REQ_CREDIT_BUREAU_HOUR    356255   47568  0.133522  float64\n",
       "AMT_REQ_CREDIT_BUREAU_DAY     356255   47568  0.133522  float64\n",
       "NAME_TYPE_SUITE               356255    2203  0.006184   object\n",
       "DEF_60_CNT_SOCIAL_CIRCLE      356255    1050  0.002947  float64\n",
       "DEF_30_CNT_SOCIAL_CIRCLE      356255    1050  0.002947  float64\n",
       "OBS_60_CNT_SOCIAL_CIRCLE      356255    1050  0.002947  float64\n",
       "OBS_30_CNT_SOCIAL_CIRCLE      356255    1050  0.002947  float64\n",
       "EXT_SOURCE_2                  356255     668  0.001875  float64\n",
       "AMT_GOODS_PRICE               356255     278  0.000780  float64\n",
       "AMT_ANNUITY                   356255      36  0.000101  float64\n",
       "CNT_FAM_MEMBERS               356255       2  0.000006  float64\n",
       "DAYS_LAST_PHONE_CHANGE        356255       1  0.000003  float64\n",
       "\n",
       "[67 rows x 4 columns]"
      ]
     },
     "execution_count": 11,
     "metadata": {},
     "output_type": "execute_result"
    }
   ],
   "source": [
    "misstable,droplistfull=showmiss(combine)\n",
    "droplistfull"
   ]
  },
  {
   "cell_type": "code",
   "execution_count": 12,
   "metadata": {},
   "outputs": [],
   "source": [
    "# Decide to drop\n",
    "droppercent=0.2\n",
    "droplist=misstable[(misstable.Percent>droppercent)]\n",
    "l=droplist.index.tolist()\n",
    "list(l)\n",
    "cm=combine.drop(columns=list(l), axis=1)\n",
    "# cm=combine.drop(columns=['ID'])\n",
    "# cm=cm.replace(r'', np.nan, regex=True)\n",
    "# cm.to_csv('checkall.csv',index=True)"
   ]
  },
  {
   "cell_type": "code",
   "execution_count": 13,
   "metadata": {},
   "outputs": [
    {
     "name": "stdout",
     "output_type": "stream",
     "text": [
      "(356255, 71)\n",
      "ID                               int64\n",
      "NAME_CONTRACT_TYPE              object\n",
      "CODE_GENDER                     object\n",
      "FLAG_OWN_CAR                    object\n",
      "FLAG_OWN_REALTY                 object\n",
      "CNT_CHILDREN                     int64\n",
      "AMT_INCOME_TOTAL               float64\n",
      "AMT_CREDIT                     float64\n",
      "AMT_ANNUITY                    float64\n",
      "AMT_GOODS_PRICE                float64\n",
      "NAME_TYPE_SUITE                 object\n",
      "NAME_INCOME_TYPE                object\n",
      "NAME_EDUCATION_TYPE             object\n",
      "NAME_FAMILY_STATUS              object\n",
      "NAME_HOUSING_TYPE               object\n",
      "REGION_POPULATION_RELATIVE     float64\n",
      "DAYS_BIRTH                     float64\n",
      "DAYS_EMPLOYED                  float64\n",
      "DAYS_REGISTRATION              float64\n",
      "DAYS_ID_PUBLISH                float64\n",
      "FLAG_MOBIL                       int64\n",
      "FLAG_EMP_PHONE                   int64\n",
      "FLAG_WORK_PHONE                  int64\n",
      "FLAG_CONT_MOBILE                 int64\n",
      "FLAG_PHONE                       int64\n",
      "FLAG_EMAIL                       int64\n",
      "CNT_FAM_MEMBERS                float64\n",
      "REGION_RATING_CLIENT             int64\n",
      "REGION_RATING_CLIENT_W_CITY      int64\n",
      "WEEKDAY_APPR_PROCESS_START      object\n",
      "                                ...   \n",
      "DEF_30_CNT_SOCIAL_CIRCLE       float64\n",
      "OBS_60_CNT_SOCIAL_CIRCLE       float64\n",
      "DEF_60_CNT_SOCIAL_CIRCLE       float64\n",
      "DAYS_LAST_PHONE_CHANGE         float64\n",
      "FLAG_DOCUMENT_2                  int64\n",
      "FLAG_DOCUMENT_3                  int64\n",
      "FLAG_DOCUMENT_4                  int64\n",
      "FLAG_DOCUMENT_5                  int64\n",
      "FLAG_DOCUMENT_6                  int64\n",
      "FLAG_DOCUMENT_7                  int64\n",
      "FLAG_DOCUMENT_8                  int64\n",
      "FLAG_DOCUMENT_9                  int64\n",
      "FLAG_DOCUMENT_10                 int64\n",
      "FLAG_DOCUMENT_11                 int64\n",
      "FLAG_DOCUMENT_12                 int64\n",
      "FLAG_DOCUMENT_13                 int64\n",
      "FLAG_DOCUMENT_14                 int64\n",
      "FLAG_DOCUMENT_15                 int64\n",
      "FLAG_DOCUMENT_16                 int64\n",
      "FLAG_DOCUMENT_17                 int64\n",
      "FLAG_DOCUMENT_18                 int64\n",
      "FLAG_DOCUMENT_19                 int64\n",
      "FLAG_DOCUMENT_20                 int64\n",
      "FLAG_DOCUMENT_21                 int64\n",
      "AMT_REQ_CREDIT_BUREAU_HOUR     float64\n",
      "AMT_REQ_CREDIT_BUREAU_DAY      float64\n",
      "AMT_REQ_CREDIT_BUREAU_WEEK     float64\n",
      "AMT_REQ_CREDIT_BUREAU_MON      float64\n",
      "AMT_REQ_CREDIT_BUREAU_QRT      float64\n",
      "AMT_REQ_CREDIT_BUREAU_YEAR     float64\n",
      "Length: 71, dtype: object\n"
     ]
    }
   ],
   "source": [
    "print(cm.shape)\n",
    "print(cm.dtypes)"
   ]
  },
  {
   "cell_type": "code",
   "execution_count": 14,
   "metadata": {},
   "outputs": [],
   "source": [
    "# Replace missing values with average and most frequent\n",
    "train_dfmt=cm[0:train_df.shape[0]]\n",
    "test_dfmt=cm[train_df.shape[0]:]\n",
    "# train_dfmt.to_csv('checktrain_b.csv',index=True)\n",
    "# test_dfmt.to_csv('checktest_b.csv',index=True)\n",
    "train_dfm,test_dfm=repmiss(train_dfmt,test_dfmt)\n",
    "# train_dfm.to_csv('checktrain_af.csv',index=True)\n",
    "# test_dfm.to_csv('checktest_af.csv',index=True)\n",
    "\n",
    "cm=train_dfm.append(test_dfm)"
   ]
  },
  {
   "cell_type": "code",
   "execution_count": 15,
   "metadata": {},
   "outputs": [],
   "source": [
    "# cm.to_csv('checkcm.csv',index=True)"
   ]
  },
  {
   "cell_type": "code",
   "execution_count": 16,
   "metadata": {},
   "outputs": [],
   "source": [
    "# Display all columns unique value\n",
    "# for col in cm:\n",
    "#     print(cm[col].name,'*Num Unique*',cm[col].nunique(),cm[col].unique(),\"\\n\")"
   ]
  },
  {
   "cell_type": "code",
   "execution_count": 17,
   "metadata": {},
   "outputs": [
    {
     "name": "stdout",
     "output_type": "stream",
     "text": [
      "3 columns were label encoded. ['NAME_CONTRACT_TYPE', 'FLAG_OWN_CAR', 'FLAG_OWN_REALTY']\n",
      "(356255, 163)\n"
     ]
    }
   ],
   "source": [
    "# Categorical Variable to dummy variable if more than 2 category (onehotencoder)\n",
    "# cmohe=pd.get_dummies(data=cm,drop_first=True)\n",
    "cmohe=trans_cate(cm)\n",
    "# cmohe.to_csv('checkcmohe.csv',index=True)"
   ]
  },
  {
   "cell_type": "code",
   "execution_count": 18,
   "metadata": {},
   "outputs": [],
   "source": [
    "wr=cmohe.describe()\n",
    "# wr.T.to_csv('wrcmohe.csv',index=True)"
   ]
  },
  {
   "cell_type": "code",
   "execution_count": 19,
   "metadata": {},
   "outputs": [],
   "source": [
    "# Convert categorical to dummy variable\n",
    "# cm1 = pd.get_dummies(cm)\n",
    "# cm['LotShape'] = cm.LotShape.cat.codes\n",
    "\n",
    "# le = LabelEncoder()\n",
    "# for i in cm.columns[cm.dtypes == 'object']: # df.dtypes == 'category'\n",
    "#     cm[i]=le.fit_transform(list(cm[i].values))\n",
    "# cm.head(5)"
   ]
  },
  {
   "cell_type": "code",
   "execution_count": 20,
   "metadata": {},
   "outputs": [
    {
     "data": {
      "text/plain": [
       "(307511, 164)"
      ]
     },
     "execution_count": 20,
     "metadata": {},
     "output_type": "execute_result"
    }
   ],
   "source": [
    "ac=cmohe[0:train_df.shape[0]].copy(deep=True)\n",
    "temptraincorr=pd.concat([ac,train_df['TARGET']],axis=1)\n",
    "temptraincorr.head(3)\n",
    "# temptraincorr.to_csv('corrcheck.csv',index=True)\n",
    "temptraincorr.shape"
   ]
  },
  {
   "cell_type": "code",
   "execution_count": 21,
   "metadata": {},
   "outputs": [
    {
     "data": {
      "text/html": [
       "<div>\n",
       "<style scoped>\n",
       "    .dataframe tbody tr th:only-of-type {\n",
       "        vertical-align: middle;\n",
       "    }\n",
       "\n",
       "    .dataframe tbody tr th {\n",
       "        vertical-align: top;\n",
       "    }\n",
       "\n",
       "    .dataframe thead th {\n",
       "        text-align: right;\n",
       "    }\n",
       "</style>\n",
       "<table border=\"1\" class=\"dataframe\">\n",
       "  <thead>\n",
       "    <tr style=\"text-align: right;\">\n",
       "      <th>TARGET</th>\n",
       "      <th>0</th>\n",
       "      <th>1</th>\n",
       "      <th>Diff</th>\n",
       "    </tr>\n",
       "  </thead>\n",
       "  <tbody>\n",
       "    <tr>\n",
       "      <th>NAME_INCOME_TYPE_Maternity leave</th>\n",
       "      <td>0.000011</td>\n",
       "      <td>0.000081</td>\n",
       "      <td>7.591433</td>\n",
       "    </tr>\n",
       "    <tr>\n",
       "      <th>NAME_INCOME_TYPE_Unemployed</th>\n",
       "      <td>0.000050</td>\n",
       "      <td>0.000322</td>\n",
       "      <td>6.506943</td>\n",
       "    </tr>\n",
       "    <tr>\n",
       "      <th>FLAG_DOCUMENT_2</th>\n",
       "      <td>0.000032</td>\n",
       "      <td>0.000161</td>\n",
       "      <td>5.060956</td>\n",
       "    </tr>\n",
       "    <tr>\n",
       "      <th>ORGANIZATION_TYPE_Transport: type 3</th>\n",
       "      <td>0.003537</td>\n",
       "      <td>0.007533</td>\n",
       "      <td>2.129397</td>\n",
       "    </tr>\n",
       "    <tr>\n",
       "      <th>FLAG_DOCUMENT_21</th>\n",
       "      <td>0.000315</td>\n",
       "      <td>0.000564</td>\n",
       "      <td>1.791237</td>\n",
       "    </tr>\n",
       "    <tr>\n",
       "      <th>ORGANIZATION_TYPE_Industry: type 13</th>\n",
       "      <td>0.000205</td>\n",
       "      <td>0.000363</td>\n",
       "      <td>1.766972</td>\n",
       "    </tr>\n",
       "    <tr>\n",
       "      <th>ORGANIZATION_TYPE_Industry: type 8</th>\n",
       "      <td>0.000074</td>\n",
       "      <td>0.000121</td>\n",
       "      <td>1.626736</td>\n",
       "    </tr>\n",
       "    <tr>\n",
       "      <th>NAME_HOUSING_TYPE_Rented apartment</th>\n",
       "      <td>0.015140</td>\n",
       "      <td>0.024209</td>\n",
       "      <td>1.598990</td>\n",
       "    </tr>\n",
       "    <tr>\n",
       "      <th>REG_CITY_NOT_LIVE_CITY</th>\n",
       "      <td>0.074641</td>\n",
       "      <td>0.118389</td>\n",
       "      <td>1.586106</td>\n",
       "    </tr>\n",
       "    <tr>\n",
       "      <th>ORGANIZATION_TYPE_Restaurant</th>\n",
       "      <td>0.005656</td>\n",
       "      <td>0.008540</td>\n",
       "      <td>1.509741</td>\n",
       "    </tr>\n",
       "    <tr>\n",
       "      <th>NAME_HOUSING_TYPE_With parents</th>\n",
       "      <td>0.046355</td>\n",
       "      <td>0.069930</td>\n",
       "      <td>1.508554</td>\n",
       "    </tr>\n",
       "    <tr>\n",
       "      <th>ORGANIZATION_TYPE_Construction</th>\n",
       "      <td>0.020999</td>\n",
       "      <td>0.031621</td>\n",
       "      <td>1.505882</td>\n",
       "    </tr>\n",
       "    <tr>\n",
       "      <th>ORGANIZATION_TYPE_Cleaning</th>\n",
       "      <td>0.000817</td>\n",
       "      <td>0.001168</td>\n",
       "      <td>1.429556</td>\n",
       "    </tr>\n",
       "    <tr>\n",
       "      <th>DEF_60_CNT_SOCIAL_CIRCLE</th>\n",
       "      <td>0.096699</td>\n",
       "      <td>0.138191</td>\n",
       "      <td>1.429083</td>\n",
       "    </tr>\n",
       "    <tr>\n",
       "      <th>ORGANIZATION_TYPE_Industry: type 1</th>\n",
       "      <td>0.003269</td>\n",
       "      <td>0.004632</td>\n",
       "      <td>1.417232</td>\n",
       "    </tr>\n",
       "    <tr>\n",
       "      <th>NAME_EDUCATION_TYPE_Lower secondary</th>\n",
       "      <td>0.012024</td>\n",
       "      <td>0.016798</td>\n",
       "      <td>1.397011</td>\n",
       "    </tr>\n",
       "    <tr>\n",
       "      <th>DEF_30_CNT_SOCIAL_CIRCLE</th>\n",
       "      <td>0.139162</td>\n",
       "      <td>0.191910</td>\n",
       "      <td>1.379035</td>\n",
       "    </tr>\n",
       "    <tr>\n",
       "      <th>ORGANIZATION_TYPE_Industry: type 3</th>\n",
       "      <td>0.010365</td>\n",
       "      <td>0.014018</td>\n",
       "      <td>1.352467</td>\n",
       "    </tr>\n",
       "    <tr>\n",
       "      <th>REG_CITY_NOT_WORK_CITY</th>\n",
       "      <td>0.224090</td>\n",
       "      <td>0.302920</td>\n",
       "      <td>1.351783</td>\n",
       "    </tr>\n",
       "    <tr>\n",
       "      <th>ORGANIZATION_TYPE_Realtor</th>\n",
       "      <td>0.001252</td>\n",
       "      <td>0.001692</td>\n",
       "      <td>1.351018</td>\n",
       "    </tr>\n",
       "    <tr>\n",
       "      <th>ORGANIZATION_TYPE_Agriculture</th>\n",
       "      <td>0.007772</td>\n",
       "      <td>0.010352</td>\n",
       "      <td>1.332043</td>\n",
       "    </tr>\n",
       "    <tr>\n",
       "      <th>ORGANIZATION_TYPE_Trade: type 3</th>\n",
       "      <td>0.011076</td>\n",
       "      <td>0.014542</td>\n",
       "      <td>1.312923</td>\n",
       "    </tr>\n",
       "    <tr>\n",
       "      <th>ORGANIZATION_TYPE_Self-employed</th>\n",
       "      <td>0.122058</td>\n",
       "      <td>0.157422</td>\n",
       "      <td>1.289734</td>\n",
       "    </tr>\n",
       "    <tr>\n",
       "      <th>ORGANIZATION_TYPE_Industry: type 4</th>\n",
       "      <td>0.002788</td>\n",
       "      <td>0.003585</td>\n",
       "      <td>1.286112</td>\n",
       "    </tr>\n",
       "    <tr>\n",
       "      <th>CODE_GENDER_M</th>\n",
       "      <td>0.333954</td>\n",
       "      <td>0.429204</td>\n",
       "      <td>1.285222</td>\n",
       "    </tr>\n",
       "    <tr>\n",
       "      <th>ORGANIZATION_TYPE_Security</th>\n",
       "      <td>0.010340</td>\n",
       "      <td>0.013051</td>\n",
       "      <td>1.262209</td>\n",
       "    </tr>\n",
       "    <tr>\n",
       "      <th>LIVE_CITY_NOT_WORK_CITY</th>\n",
       "      <td>0.175856</td>\n",
       "      <td>0.221672</td>\n",
       "      <td>1.260530</td>\n",
       "    </tr>\n",
       "    <tr>\n",
       "      <th>NAME_FAMILY_STATUS_Civil marriage</th>\n",
       "      <td>0.094854</td>\n",
       "      <td>0.119275</td>\n",
       "      <td>1.257453</td>\n",
       "    </tr>\n",
       "    <tr>\n",
       "      <th>NAME_TYPE_SUITE_Other_B</th>\n",
       "      <td>0.005646</td>\n",
       "      <td>0.007009</td>\n",
       "      <td>1.241456</td>\n",
       "    </tr>\n",
       "    <tr>\n",
       "      <th>NAME_FAMILY_STATUS_Single / not married</th>\n",
       "      <td>0.144991</td>\n",
       "      <td>0.179537</td>\n",
       "      <td>1.238259</td>\n",
       "    </tr>\n",
       "    <tr>\n",
       "      <th>...</th>\n",
       "      <td>...</td>\n",
       "      <td>...</td>\n",
       "      <td>...</td>\n",
       "    </tr>\n",
       "    <tr>\n",
       "      <th>FLAG_DOCUMENT_18</th>\n",
       "      <td>0.008341</td>\n",
       "      <td>0.005720</td>\n",
       "      <td>0.685740</td>\n",
       "    </tr>\n",
       "    <tr>\n",
       "      <th>FLAG_DOCUMENT_6</th>\n",
       "      <td>0.090457</td>\n",
       "      <td>0.060705</td>\n",
       "      <td>0.671090</td>\n",
       "    </tr>\n",
       "    <tr>\n",
       "      <th>ORGANIZATION_TYPE_Culture</th>\n",
       "      <td>0.001266</td>\n",
       "      <td>0.000846</td>\n",
       "      <td>0.667961</td>\n",
       "    </tr>\n",
       "    <tr>\n",
       "      <th>NAME_CONTRACT_TYPE</th>\n",
       "      <td>0.097900</td>\n",
       "      <td>0.064612</td>\n",
       "      <td>0.659982</td>\n",
       "    </tr>\n",
       "    <tr>\n",
       "      <th>ORGANIZATION_TYPE_XNA</th>\n",
       "      <td>0.185308</td>\n",
       "      <td>0.120443</td>\n",
       "      <td>0.649961</td>\n",
       "    </tr>\n",
       "    <tr>\n",
       "      <th>NAME_INCOME_TYPE_Pensioner</th>\n",
       "      <td>0.185294</td>\n",
       "      <td>0.120121</td>\n",
       "      <td>0.648272</td>\n",
       "    </tr>\n",
       "    <tr>\n",
       "      <th>NAME_EDUCATION_TYPE_Higher education</th>\n",
       "      <td>0.250646</td>\n",
       "      <td>0.161490</td>\n",
       "      <td>0.644298</td>\n",
       "    </tr>\n",
       "    <tr>\n",
       "      <th>ORGANIZATION_TYPE_Bank</th>\n",
       "      <td>0.008409</td>\n",
       "      <td>0.005237</td>\n",
       "      <td>0.622772</td>\n",
       "    </tr>\n",
       "    <tr>\n",
       "      <th>ORGANIZATION_TYPE_Military</th>\n",
       "      <td>0.008840</td>\n",
       "      <td>0.005438</td>\n",
       "      <td>0.615152</td>\n",
       "    </tr>\n",
       "    <tr>\n",
       "      <th>FLAG_DOCUMENT_7</th>\n",
       "      <td>0.000198</td>\n",
       "      <td>0.000121</td>\n",
       "      <td>0.610026</td>\n",
       "    </tr>\n",
       "    <tr>\n",
       "      <th>ORGANIZATION_TYPE_Police</th>\n",
       "      <td>0.007867</td>\n",
       "      <td>0.004713</td>\n",
       "      <td>0.599054</td>\n",
       "    </tr>\n",
       "    <tr>\n",
       "      <th>FLAG_DOCUMENT_16</th>\n",
       "      <td>0.010269</td>\n",
       "      <td>0.006042</td>\n",
       "      <td>0.588382</td>\n",
       "    </tr>\n",
       "    <tr>\n",
       "      <th>ORGANIZATION_TYPE_University</th>\n",
       "      <td>0.004464</td>\n",
       "      <td>0.002618</td>\n",
       "      <td>0.586501</td>\n",
       "    </tr>\n",
       "    <tr>\n",
       "      <th>ORGANIZATION_TYPE_Security Ministries</th>\n",
       "      <td>0.006643</td>\n",
       "      <td>0.003867</td>\n",
       "      <td>0.582091</td>\n",
       "    </tr>\n",
       "    <tr>\n",
       "      <th>ORGANIZATION_TYPE_Trade: type 6</th>\n",
       "      <td>0.002130</td>\n",
       "      <td>0.001168</td>\n",
       "      <td>0.548550</td>\n",
       "    </tr>\n",
       "    <tr>\n",
       "      <th>ORGANIZATION_TYPE_Transport: type 1</th>\n",
       "      <td>0.000679</td>\n",
       "      <td>0.000363</td>\n",
       "      <td>0.533773</td>\n",
       "    </tr>\n",
       "    <tr>\n",
       "      <th>ORGANIZATION_TYPE_Industry: type 12</th>\n",
       "      <td>0.001256</td>\n",
       "      <td>0.000564</td>\n",
       "      <td>0.449071</td>\n",
       "    </tr>\n",
       "    <tr>\n",
       "      <th>FLAG_DOCUMENT_14</th>\n",
       "      <td>0.003088</td>\n",
       "      <td>0.001208</td>\n",
       "      <td>0.391311</td>\n",
       "    </tr>\n",
       "    <tr>\n",
       "      <th>ORGANIZATION_TYPE_Trade: type 4</th>\n",
       "      <td>0.000219</td>\n",
       "      <td>0.000081</td>\n",
       "      <td>0.367327</td>\n",
       "    </tr>\n",
       "    <tr>\n",
       "      <th>FLAG_DOCUMENT_15</th>\n",
       "      <td>0.001277</td>\n",
       "      <td>0.000443</td>\n",
       "      <td>0.346977</td>\n",
       "    </tr>\n",
       "    <tr>\n",
       "      <th>FLAG_DOCUMENT_13</th>\n",
       "      <td>0.003729</td>\n",
       "      <td>0.001208</td>\n",
       "      <td>0.324112</td>\n",
       "    </tr>\n",
       "    <tr>\n",
       "      <th>FLAG_DOCUMENT_17</th>\n",
       "      <td>0.000283</td>\n",
       "      <td>0.000081</td>\n",
       "      <td>0.284679</td>\n",
       "    </tr>\n",
       "    <tr>\n",
       "      <th>NAME_EDUCATION_TYPE_Academic degree</th>\n",
       "      <td>0.000570</td>\n",
       "      <td>0.000121</td>\n",
       "      <td>0.212183</td>\n",
       "    </tr>\n",
       "    <tr>\n",
       "      <th>FLAG_DOCUMENT_12</th>\n",
       "      <td>0.000007</td>\n",
       "      <td>0.000000</td>\n",
       "      <td>0.000000</td>\n",
       "    </tr>\n",
       "    <tr>\n",
       "      <th>NAME_FAMILY_STATUS_Unknown</th>\n",
       "      <td>0.000007</td>\n",
       "      <td>0.000000</td>\n",
       "      <td>0.000000</td>\n",
       "    </tr>\n",
       "    <tr>\n",
       "      <th>FLAG_DOCUMENT_10</th>\n",
       "      <td>0.000025</td>\n",
       "      <td>0.000000</td>\n",
       "      <td>0.000000</td>\n",
       "    </tr>\n",
       "    <tr>\n",
       "      <th>CODE_GENDER_XNA</th>\n",
       "      <td>0.000014</td>\n",
       "      <td>0.000000</td>\n",
       "      <td>0.000000</td>\n",
       "    </tr>\n",
       "    <tr>\n",
       "      <th>FLAG_DOCUMENT_4</th>\n",
       "      <td>0.000088</td>\n",
       "      <td>0.000000</td>\n",
       "      <td>0.000000</td>\n",
       "    </tr>\n",
       "    <tr>\n",
       "      <th>NAME_INCOME_TYPE_Businessman</th>\n",
       "      <td>0.000035</td>\n",
       "      <td>0.000000</td>\n",
       "      <td>0.000000</td>\n",
       "    </tr>\n",
       "    <tr>\n",
       "      <th>NAME_INCOME_TYPE_Student</th>\n",
       "      <td>0.000064</td>\n",
       "      <td>0.000000</td>\n",
       "      <td>0.000000</td>\n",
       "    </tr>\n",
       "  </tbody>\n",
       "</table>\n",
       "<p>163 rows × 3 columns</p>\n",
       "</div>"
      ],
      "text/plain": [
       "TARGET                                          0         1      Diff\n",
       "NAME_INCOME_TYPE_Maternity leave         0.000011  0.000081  7.591433\n",
       "NAME_INCOME_TYPE_Unemployed              0.000050  0.000322  6.506943\n",
       "FLAG_DOCUMENT_2                          0.000032  0.000161  5.060956\n",
       "ORGANIZATION_TYPE_Transport: type 3      0.003537  0.007533  2.129397\n",
       "FLAG_DOCUMENT_21                         0.000315  0.000564  1.791237\n",
       "ORGANIZATION_TYPE_Industry: type 13      0.000205  0.000363  1.766972\n",
       "ORGANIZATION_TYPE_Industry: type 8       0.000074  0.000121  1.626736\n",
       "NAME_HOUSING_TYPE_Rented apartment       0.015140  0.024209  1.598990\n",
       "REG_CITY_NOT_LIVE_CITY                   0.074641  0.118389  1.586106\n",
       "ORGANIZATION_TYPE_Restaurant             0.005656  0.008540  1.509741\n",
       "NAME_HOUSING_TYPE_With parents           0.046355  0.069930  1.508554\n",
       "ORGANIZATION_TYPE_Construction           0.020999  0.031621  1.505882\n",
       "ORGANIZATION_TYPE_Cleaning               0.000817  0.001168  1.429556\n",
       "DEF_60_CNT_SOCIAL_CIRCLE                 0.096699  0.138191  1.429083\n",
       "ORGANIZATION_TYPE_Industry: type 1       0.003269  0.004632  1.417232\n",
       "NAME_EDUCATION_TYPE_Lower secondary      0.012024  0.016798  1.397011\n",
       "DEF_30_CNT_SOCIAL_CIRCLE                 0.139162  0.191910  1.379035\n",
       "ORGANIZATION_TYPE_Industry: type 3       0.010365  0.014018  1.352467\n",
       "REG_CITY_NOT_WORK_CITY                   0.224090  0.302920  1.351783\n",
       "ORGANIZATION_TYPE_Realtor                0.001252  0.001692  1.351018\n",
       "ORGANIZATION_TYPE_Agriculture            0.007772  0.010352  1.332043\n",
       "ORGANIZATION_TYPE_Trade: type 3          0.011076  0.014542  1.312923\n",
       "ORGANIZATION_TYPE_Self-employed          0.122058  0.157422  1.289734\n",
       "ORGANIZATION_TYPE_Industry: type 4       0.002788  0.003585  1.286112\n",
       "CODE_GENDER_M                            0.333954  0.429204  1.285222\n",
       "ORGANIZATION_TYPE_Security               0.010340  0.013051  1.262209\n",
       "LIVE_CITY_NOT_WORK_CITY                  0.175856  0.221672  1.260530\n",
       "NAME_FAMILY_STATUS_Civil marriage        0.094854  0.119275  1.257453\n",
       "NAME_TYPE_SUITE_Other_B                  0.005646  0.007009  1.241456\n",
       "NAME_FAMILY_STATUS_Single / not married  0.144991  0.179537  1.238259\n",
       "...                                           ...       ...       ...\n",
       "FLAG_DOCUMENT_18                         0.008341  0.005720  0.685740\n",
       "FLAG_DOCUMENT_6                          0.090457  0.060705  0.671090\n",
       "ORGANIZATION_TYPE_Culture                0.001266  0.000846  0.667961\n",
       "NAME_CONTRACT_TYPE                       0.097900  0.064612  0.659982\n",
       "ORGANIZATION_TYPE_XNA                    0.185308  0.120443  0.649961\n",
       "NAME_INCOME_TYPE_Pensioner               0.185294  0.120121  0.648272\n",
       "NAME_EDUCATION_TYPE_Higher education     0.250646  0.161490  0.644298\n",
       "ORGANIZATION_TYPE_Bank                   0.008409  0.005237  0.622772\n",
       "ORGANIZATION_TYPE_Military               0.008840  0.005438  0.615152\n",
       "FLAG_DOCUMENT_7                          0.000198  0.000121  0.610026\n",
       "ORGANIZATION_TYPE_Police                 0.007867  0.004713  0.599054\n",
       "FLAG_DOCUMENT_16                         0.010269  0.006042  0.588382\n",
       "ORGANIZATION_TYPE_University             0.004464  0.002618  0.586501\n",
       "ORGANIZATION_TYPE_Security Ministries    0.006643  0.003867  0.582091\n",
       "ORGANIZATION_TYPE_Trade: type 6          0.002130  0.001168  0.548550\n",
       "ORGANIZATION_TYPE_Transport: type 1      0.000679  0.000363  0.533773\n",
       "ORGANIZATION_TYPE_Industry: type 12      0.001256  0.000564  0.449071\n",
       "FLAG_DOCUMENT_14                         0.003088  0.001208  0.391311\n",
       "ORGANIZATION_TYPE_Trade: type 4          0.000219  0.000081  0.367327\n",
       "FLAG_DOCUMENT_15                         0.001277  0.000443  0.346977\n",
       "FLAG_DOCUMENT_13                         0.003729  0.001208  0.324112\n",
       "FLAG_DOCUMENT_17                         0.000283  0.000081  0.284679\n",
       "NAME_EDUCATION_TYPE_Academic degree      0.000570  0.000121  0.212183\n",
       "FLAG_DOCUMENT_12                         0.000007  0.000000  0.000000\n",
       "NAME_FAMILY_STATUS_Unknown               0.000007  0.000000  0.000000\n",
       "FLAG_DOCUMENT_10                         0.000025  0.000000  0.000000\n",
       "CODE_GENDER_XNA                          0.000014  0.000000  0.000000\n",
       "FLAG_DOCUMENT_4                          0.000088  0.000000  0.000000\n",
       "NAME_INCOME_TYPE_Businessman             0.000035  0.000000  0.000000\n",
       "NAME_INCOME_TYPE_Student                 0.000064  0.000000  0.000000\n",
       "\n",
       "[163 rows x 3 columns]"
      ]
     },
     "execution_count": 21,
     "metadata": {},
     "output_type": "execute_result"
    },
    {
     "data": {
      "image/png": "[encoded data removed]",
      "text/plain": [
       "<Figure size 1800x720 with 1 Axes>"
      ]
     },
     "metadata": {
      "needs_background": "light"
     },
     "output_type": "display_data"
    }
   ],
   "source": [
    "showcatediff(xt=temptraincorr,tar='TARGET',topx=15)"
   ]
  },
  {
   "cell_type": "code",
   "execution_count": 22,
   "metadata": {},
   "outputs": [],
   "source": [
    "corrmat = temptraincorr.corr()"
   ]
  },
  {
   "cell_type": "code",
   "execution_count": 23,
   "metadata": {},
   "outputs": [
    {
     "data": {
      "image/png": "[encoded data removed]",
      "text/plain": [
       "<Figure size 432x288 with 2 Axes>"
      ]
     },
     "metadata": {
      "needs_background": "light"
     },
     "output_type": "display_data"
    }
   ],
   "source": [
    "#Target correlation matrix\n",
    "k = 5 #number of variables for heatmap\n",
    "cols = corrmat.nlargest(k, 'TARGET')['TARGET'].index\n",
    "cmd = np.corrcoef(temptraincorr[cols].values.T)\n",
    "fig = plt.figure()\n",
    "sns.set(font_scale=1)\n",
    "hm = sns.heatmap(cmd,cmap=\"coolwarm\",cbar=True, annot=True, square=True, fmt='.2f', annot_kws={'size': 8},yticklabels=cols.values, xticklabels=cols.values)\n",
    "plt.show()"
   ]
  },
  {
   "cell_type": "code",
   "execution_count": 24,
   "metadata": {},
   "outputs": [],
   "source": [
    "fig.savefig('corr.png')"
   ]
  },
  {
   "cell_type": "markdown",
   "metadata": {},
   "source": [
    "# Feature Scaling"
   ]
  },
  {
   "cell_type": "code",
   "execution_count": 25,
   "metadata": {},
   "outputs": [
    {
     "name": "stdout",
     "output_type": "stream",
     "text": [
      "['ID', 'DAYS_BIRTH', 'DAYS_REGISTRATION']\n"
     ]
    }
   ],
   "source": [
    "# log if numerical data is great than pick\n",
    "pick=3\n",
    "ltt=pd.DataFrame({'Avg':cmohe.mean(),'Min':cmohe.min(),'Max':cmohe.max()}).sort_values(by=['Avg'],ascending=False)\n",
    "lt=ltt[:pick].index.tolist()\n",
    "print(lt)\n",
    "# cmlog = np.log(cm[lt]).copy(deep=True)\n",
    "# ltt"
   ]
  },
  {
   "cell_type": "code",
   "execution_count": 26,
   "metadata": {},
   "outputs": [],
   "source": [
    "# cmohe=cmohe.drop(columns='ID').copy(deep=True)"
   ]
  },
  {
   "cell_type": "code",
   "execution_count": 27,
   "metadata": {},
   "outputs": [],
   "source": [
    "# feature scaling, for numerical data, use (x-min)/(max-min)\n",
    "train_sct=cmohe[0:train_df.shape[0]].copy(deep=True)\n",
    "test_sct=cmohe[train_df.shape[0]:].copy(deep=True)\n",
    "\n",
    "train_sc=cmohe[0:train_df.shape[0]].copy(deep=True)\n",
    "test_sc=cmohe[train_df.shape[0]:].copy(deep=True)\n",
    "\n",
    "scaler = MinMaxScaler(feature_range = (0, 1))\n",
    "transformer = scaler.fit(train_sct)\n",
    "train_sc=transformer.transform(train_sct)\n",
    "train_sc = pd.DataFrame(train_sc, columns=train_sct.columns).drop(columns='ID')\n",
    "test_sc=transformer.transform(test_sct)\n",
    "test_sc = pd.DataFrame(test_sc, columns=test_sct.columns).drop(columns='ID')\n",
    "\n",
    "# cms=train_sc.append(test_sc)\n",
    "# cms.describe().to_csv('scalecheck.csv',index=True)\n",
    "# cms.to_csv('datacheck.csv',index=True)"
   ]
  },
  {
   "cell_type": "code",
   "execution_count": 28,
   "metadata": {},
   "outputs": [],
   "source": [
    "# Split Training Data into Sub_Train and Sub_Validation\n",
    "xTrain, xTest, yTrain, yTest = train_test_split(train_sc, yTarget, test_size = 0.001, random_state = 46,stratify=yTarget)"
   ]
  },
  {
   "cell_type": "code",
   "execution_count": 29,
   "metadata": {},
   "outputs": [],
   "source": [
    "# xTrain.to_csv('xTrain.csv',index=True)\n",
    "# yTrain.to_csv('yTrain.csv',index=True)\n",
    "# xTest.to_csv('xTest.csv',index=True)\n",
    "# yTest.to_csv('yTest.csv',index=True)"
   ]
  },
  {
   "cell_type": "markdown",
   "metadata": {},
   "source": [
    "# Modeling"
   ]
  },
  {
   "cell_type": "markdown",
   "metadata": {},
   "source": [
    "# LightGBM"
   ]
  },
  {
   "cell_type": "code",
   "execution_count": 30,
   "metadata": {},
   "outputs": [],
   "source": [
    "lgbmodel = lgb.LGBMClassifier(boosting_type='gbdt',n_estimators=1000, objective = 'binary',\n",
    "                              class_weight = 'balanced', learning_rate = 0.05,\n",
    "                              reg_alpha = 0.1, reg_lambda = 0.1, subsample = 1, n_jobs = -1,\n",
    "                              random_state = 50,importance_type='gain',silent=False)"
   ]
  },
  {
   "cell_type": "code",
   "execution_count": 31,
   "metadata": {},
   "outputs": [
    {
     "name": "stdout",
     "output_type": "stream",
     "text": [
      "Training until validation scores don't improve for 300 rounds.\n",
      "[100]\ttrain's binary_logloss: 0.579986\ttrain's auc: 0.765985\tvalid's binary_logloss: 0.58818\tvalid's auc: 0.795194\n",
      "[200]\ttrain's binary_logloss: 0.563388\ttrain's auc: 0.782248\tvalid's binary_logloss: 0.574906\tvalid's auc: 0.804523\n",
      "[300]\ttrain's binary_logloss: 0.551731\ttrain's auc: 0.794637\tvalid's binary_logloss: 0.566686\tvalid's auc: 0.812721\n",
      "[400]\ttrain's binary_logloss: 0.540561\ttrain's auc: 0.806276\tvalid's binary_logloss: 0.559073\tvalid's auc: 0.815406\n",
      "[500]\ttrain's binary_logloss: 0.530284\ttrain's auc: 0.81693\tvalid's binary_logloss: 0.553696\tvalid's auc: 0.81894\n",
      "[600]\ttrain's binary_logloss: 0.520739\ttrain's auc: 0.826616\tvalid's binary_logloss: 0.549559\tvalid's auc: 0.814134\n",
      "[700]\ttrain's binary_logloss: 0.511808\ttrain's auc: 0.83558\tvalid's binary_logloss: 0.546202\tvalid's auc: 0.813993\n",
      "Early stopping, best iteration is:\n",
      "[453]\ttrain's binary_logloss: 0.534977\ttrain's auc: 0.812117\tvalid's binary_logloss: 0.555091\tvalid's auc: 0.821343\n"
     ]
    }
   ],
   "source": [
    "lgbm2=lgbmodel.fit(xTrain, yTrain, eval_metric = ['f1', 'auc'],\n",
    "                  eval_set = [(xTest, yTest), (xTrain, yTrain)],\n",
    "                  eval_names = ['valid', 'train'],\n",
    "                  early_stopping_rounds = 300, verbose = 100)"
   ]
  },
  {
   "cell_type": "code",
   "execution_count": 32,
   "metadata": {},
   "outputs": [],
   "source": [
    "lgb2_pred = lgbm2.predict(xTest)\n",
    "lgb2_prob = lgbm2.predict_proba(xTest)[:,1]"
   ]
  },
  {
   "cell_type": "code",
   "execution_count": 33,
   "metadata": {},
   "outputs": [
    {
     "name": "stdout",
     "output_type": "stream",
     "text": [
      "              precision    recall  f1-score   support\n",
      "\n",
      "           0       0.97      0.71      0.82       283\n",
      "           1       0.19      0.76      0.30        25\n",
      "\n",
      "   micro avg       0.72      0.72      0.72       308\n",
      "   macro avg       0.58      0.74      0.56       308\n",
      "weighted avg       0.91      0.72      0.78       308\n",
      "\n",
      "Max F1 0.4313725490196078\n"
     ]
    },
    {
     "data": {
      "image/png": "[encoded data removed]",
      "text/plain": [
       "<Figure size 432x288 with 1 Axes>"
      ]
     },
     "metadata": {},
     "output_type": "display_data"
    }
   ],
   "source": [
    "print(classification_report(yTest, lgb2_pred))\n",
    "precision, recall, thresholds = precision_recall_curve(y_true=yTest['TARGET'], probas_pred=lgb2_prob, pos_label=1)\n",
    "print('Max F1',max((2*precision*recall)/(precision+recall)))\n",
    "plot_prec_recall_vs_tresh(precision, recall, thresholds)\n",
    "plt.show()"
   ]
  },
  {
   "cell_type": "markdown",
   "metadata": {},
   "source": [
    "# XGB"
   ]
  },
  {
   "cell_type": "code",
   "execution_count": 34,
   "metadata": {},
   "outputs": [],
   "source": [
    "# xgb1 is the baseline model without any para\n",
    "xgbp1 = xgb.XGBClassifier()\n",
    "xgbm1 = xgbp1.fit(xTrain, yTrain)\n",
    "xgb1_pred = xgbm1.predict(xTest)\n",
    "xgb1_prob = xgbm1.predict_proba(xTest)[:,1]"
   ]
  },
  {
   "cell_type": "code",
   "execution_count": 35,
   "metadata": {},
   "outputs": [
    {
     "name": "stdout",
     "output_type": "stream",
     "text": [
      "              precision    recall  f1-score   support\n",
      "\n",
      "           0       0.92      1.00      0.96       283\n",
      "           1       1.00      0.04      0.08        25\n",
      "\n",
      "   micro avg       0.92      0.92      0.92       308\n",
      "   macro avg       0.96      0.52      0.52       308\n",
      "weighted avg       0.93      0.92      0.89       308\n",
      "\n",
      "Max F1 0.4057971014492754\n"
     ]
    },
    {
     "data": {
      "image/png": "[encoded data removed]",
      "text/plain": [
       "<Figure size 432x288 with 1 Axes>"
      ]
     },
     "metadata": {},
     "output_type": "display_data"
    }
   ],
   "source": [
    "print(classification_report(yTest, xgb1_pred))\n",
    "precision, recall, thresholds = precision_recall_curve(y_true=yTest, probas_pred=xgb1_prob, pos_label=1)\n",
    "print('Max F1',max((2*precision*recall)/(precision+recall)))\n",
    "plot_prec_recall_vs_tresh(precision, recall, thresholds)\n",
    "plt.show()"
   ]
  },
  {
   "cell_type": "code",
   "execution_count": 36,
   "metadata": {},
   "outputs": [
    {
     "name": "stdout",
     "output_type": "stream",
     "text": [
      "[11:31:11] Tree method is selected to be 'hist', which uses a single updater grow_fast_histmaker.\n"
     ]
    }
   ],
   "source": [
    "# xgb2 is the refine parameter check https://xgboost.readthedocs.io/en/latest/parameter.html#general-parameters\n",
    "# params = list(booster='gbtree',verbosity=1,eta = 0.1, gamma=1,max_depth=6,min_child_weight=10,max_delta_step=1,subsample=0.9,reg_lambda=1,tree_method='hist',scale_pos_weight=ratio,objective = 'binary:logistic',eval_metric='auc',seed=46)\n",
    "xgbp2 = xgb.XGBClassifier(n_estimators=200,booster='gbtree',verbose=True,verbosity=1,\n",
    "                         eta = 0.1, gamma=1,max_depth=6,min_child_weight=10,max_delta_step=1,subsample=0.9,\n",
    "                         reg_lambda=1,tree_method='hist',scale_pos_weight=ratio,objective = 'binary:logistic',\n",
    "                         eval_metric='auc',seed=46)\n",
    "eval_set = [(xTest, yTest)]\n",
    "xgbm2 = xgbp2.fit(xTrain, yTrain,verbose=False,eval_metric=['auc'],\n",
    "                  eval_set = [(xTest, yTest)],early_stopping_rounds = 50)\n",
    "xgb2_pred = xgbm2.predict(xTest)\n",
    "xgb2_prob = xgbm2.predict_proba(xTest)[:,1]"
   ]
  },
  {
   "cell_type": "code",
   "execution_count": 37,
   "metadata": {},
   "outputs": [
    {
     "data": {
      "text/plain": [
       "['XGB2.model']"
      ]
     },
     "execution_count": 37,
     "metadata": {},
     "output_type": "execute_result"
    }
   ],
   "source": [
    "# save the XGB model to disk\n",
    "filename = 'XGB2.model'\n",
    "model=xgbm2\n",
    "joblib.dump(model, filename, compress=5)"
   ]
  },
  {
   "cell_type": "code",
   "execution_count": 38,
   "metadata": {},
   "outputs": [
    {
     "name": "stdout",
     "output_type": "stream",
     "text": [
      "[0.59511524 0.44503212 0.13232543 0.23941725 0.6871222  0.34227344\n",
      " 0.8055076  0.44869962 0.30844644 0.39349115 0.24128881 0.23402585\n",
      " 0.5015634  0.70429564 0.7168078  0.37815827 0.463141   0.10634537\n",
      " 0.20795025 0.66414195 0.24222834 0.431552   0.34974742 0.30093196\n",
      " 0.36551294 0.18972012 0.5129518  0.06454641 0.5642019  0.7094719\n",
      " 0.5831553  0.5943515  0.09251976 0.6541983  0.60739654 0.15516423\n",
      " 0.11041173 0.37321967 0.20157945 0.62949646 0.3207861  0.2620167\n",
      " 0.76538986 0.44120073 0.38026777 0.6939792  0.39033955 0.5901773\n",
      " 0.32248998 0.3096628  0.33879113 0.2955476  0.77527004 0.34234783\n",
      " 0.16778128 0.53898877 0.39262238 0.50777423 0.43166518 0.21566142\n",
      " 0.34317884 0.43192065 0.6610827  0.44890082 0.39124176 0.4466511\n",
      " 0.4889101  0.74169016 0.5475894  0.3983889  0.24986966 0.7264716\n",
      " 0.2719489  0.30215964 0.23865205 0.33819363 0.16779104 0.5034938\n",
      " 0.7115501  0.40612108 0.28393713 0.4117896  0.06318385 0.39742208\n",
      " 0.42230222 0.16831739 0.3311981  0.72870064 0.6584977  0.8680756\n",
      " 0.7500859  0.6209915  0.38005286 0.26256835 0.2709327  0.33171237\n",
      " 0.32876322 0.58319575 0.54038376 0.4810979  0.46403313 0.1138236\n",
      " 0.64361405 0.19454576 0.72587323 0.11096597 0.38407576 0.22877918\n",
      " 0.5130201  0.47279793 0.5137349  0.42229924 0.43560937 0.23119222\n",
      " 0.8295181  0.18595149 0.676943   0.43886438 0.5549246  0.23856905\n",
      " 0.28442153 0.8650254  0.05716833 0.2600206  0.21675044 0.3334218\n",
      " 0.50508153 0.7091657  0.3245516  0.7427749  0.46277475 0.75738525\n",
      " 0.2861573  0.44420204 0.1934457  0.6289346  0.45228854 0.14265183\n",
      " 0.38722244 0.2287599  0.25207925 0.28158244 0.25954816 0.1445962\n",
      " 0.513395   0.4153635  0.6416052  0.2880216  0.6302087  0.53088236\n",
      " 0.57196945 0.35533014 0.11695892 0.5343924  0.6946283  0.4469987\n",
      " 0.44647834 0.37233648 0.49049973 0.7541671  0.3406932  0.35326922\n",
      " 0.7332136  0.1263005  0.36578086 0.7195753  0.3500297  0.18634838\n",
      " 0.38882965 0.5319085  0.15273216 0.20002924 0.51945937 0.51085263\n",
      " 0.54822975 0.49253947 0.7282565  0.6061564  0.8042227  0.63178474\n",
      " 0.2068021  0.5074597  0.49690682 0.23084098 0.83394295 0.45841473\n",
      " 0.21223137 0.53592527 0.16805531 0.29786956 0.7820402  0.525937\n",
      " 0.3194031  0.57749844 0.47103712 0.23455898 0.8072797  0.35858357\n",
      " 0.34196857 0.47686514 0.75173116 0.65958196 0.811758   0.19185956\n",
      " 0.74858356 0.32548985 0.58149    0.32254583 0.6385661  0.19152854\n",
      " 0.5029705  0.31985974 0.29998964 0.4436808  0.4912235  0.34138763\n",
      " 0.28772044 0.06949127 0.21657893 0.59021425 0.9263991  0.16773601\n",
      " 0.2937643  0.64149874 0.20012234 0.59774816 0.08584945 0.5893122\n",
      " 0.3143948  0.42248875 0.14441508 0.12165632 0.17511544 0.6570505\n",
      " 0.03121056 0.2907518  0.71965164 0.6165066  0.77936083 0.26279867\n",
      " 0.24399225 0.66044223 0.6860408  0.4118263  0.33214223 0.73167264\n",
      " 0.07555371 0.11330105 0.3176198  0.44927946 0.49134773 0.40472698\n",
      " 0.3902952  0.3316034  0.5600537  0.6514056  0.14193414 0.7034624\n",
      " 0.3787799  0.26062837 0.28705359 0.3025095  0.60948884 0.32361436\n",
      " 0.8498619  0.82540256 0.3036092  0.4083229  0.3972185  0.13280317\n",
      " 0.31795925 0.18646395 0.19005997 0.35974035 0.42530057 0.31858668\n",
      " 0.2733151  0.20643829 0.3098142  0.30559266 0.18019663 0.3750283\n",
      " 0.6130322  0.45910063 0.1185532  0.27300897 0.13402069 0.76067996\n",
      " 0.6834575  0.6483979  0.5237019  0.17444725 0.20827043 0.11482891\n",
      " 0.40492868 0.09963701 0.120933   0.20111357 0.12807307 0.7679113\n",
      " 0.16828826 0.12726958 0.17943479 0.46519476 0.4656422  0.8712001\n",
      " 0.59104615 0.06578835]\n",
      "[0.59511524 0.44503212 0.13232543 0.23941725 0.6871222  0.34227344\n",
      " 0.8055076  0.44869962 0.30844644 0.39349115 0.24128881 0.23402585\n",
      " 0.5015634  0.70429564 0.7168078  0.37815827 0.463141   0.10634537\n",
      " 0.20795025 0.66414195 0.24222834 0.431552   0.34974742 0.30093196\n",
      " 0.36551294 0.18972012 0.5129518  0.06454641 0.5642019  0.7094719\n",
      " 0.5831553  0.5943515  0.09251976 0.6541983  0.60739654 0.15516423\n",
      " 0.11041173 0.37321967 0.20157945 0.62949646 0.3207861  0.2620167\n",
      " 0.76538986 0.44120073 0.38026777 0.6939792  0.39033955 0.5901773\n",
      " 0.32248998 0.3096628  0.33879113 0.2955476  0.77527004 0.34234783\n",
      " 0.16778128 0.53898877 0.39262238 0.50777423 0.43166518 0.21566142\n",
      " 0.34317884 0.43192065 0.6610827  0.44890082 0.39124176 0.4466511\n",
      " 0.4889101  0.74169016 0.5475894  0.3983889  0.24986966 0.7264716\n",
      " 0.2719489  0.30215964 0.23865205 0.33819363 0.16779104 0.5034938\n",
      " 0.7115501  0.40612108 0.28393713 0.4117896  0.06318385 0.39742208\n",
      " 0.42230222 0.16831739 0.3311981  0.72870064 0.6584977  0.8680756\n",
      " 0.7500859  0.6209915  0.38005286 0.26256835 0.2709327  0.33171237\n",
      " 0.32876322 0.58319575 0.54038376 0.4810979  0.46403313 0.1138236\n",
      " 0.64361405 0.19454576 0.72587323 0.11096597 0.38407576 0.22877918\n",
      " 0.5130201  0.47279793 0.5137349  0.42229924 0.43560937 0.23119222\n",
      " 0.8295181  0.18595149 0.676943   0.43886438 0.5549246  0.23856905\n",
      " 0.28442153 0.8650254  0.05716833 0.2600206  0.21675044 0.3334218\n",
      " 0.50508153 0.7091657  0.3245516  0.7427749  0.46277475 0.75738525\n",
      " 0.2861573  0.44420204 0.1934457  0.6289346  0.45228854 0.14265183\n",
      " 0.38722244 0.2287599  0.25207925 0.28158244 0.25954816 0.1445962\n",
      " 0.513395   0.4153635  0.6416052  0.2880216  0.6302087  0.53088236\n",
      " 0.57196945 0.35533014 0.11695892 0.5343924  0.6946283  0.4469987\n",
      " 0.44647834 0.37233648 0.49049973 0.7541671  0.3406932  0.35326922\n",
      " 0.7332136  0.1263005  0.36578086 0.7195753  0.3500297  0.18634838\n",
      " 0.38882965 0.5319085  0.15273216 0.20002924 0.51945937 0.51085263\n",
      " 0.54822975 0.49253947 0.7282565  0.6061564  0.8042227  0.63178474\n",
      " 0.2068021  0.5074597  0.49690682 0.23084098 0.83394295 0.45841473\n",
      " 0.21223137 0.53592527 0.16805531 0.29786956 0.7820402  0.525937\n",
      " 0.3194031  0.57749844 0.47103712 0.23455898 0.8072797  0.35858357\n",
      " 0.34196857 0.47686514 0.75173116 0.65958196 0.811758   0.19185956\n",
      " 0.74858356 0.32548985 0.58149    0.32254583 0.6385661  0.19152854\n",
      " 0.5029705  0.31985974 0.29998964 0.4436808  0.4912235  0.34138763\n",
      " 0.28772044 0.06949127 0.21657893 0.59021425 0.9263991  0.16773601\n",
      " 0.2937643  0.64149874 0.20012234 0.59774816 0.08584945 0.5893122\n",
      " 0.3143948  0.42248875 0.14441508 0.12165632 0.17511544 0.6570505\n",
      " 0.03121056 0.2907518  0.71965164 0.6165066  0.77936083 0.26279867\n",
      " 0.24399225 0.66044223 0.6860408  0.4118263  0.33214223 0.73167264\n",
      " 0.07555371 0.11330105 0.3176198  0.44927946 0.49134773 0.40472698\n",
      " 0.3902952  0.3316034  0.5600537  0.6514056  0.14193414 0.7034624\n",
      " 0.3787799  0.26062837 0.28705359 0.3025095  0.60948884 0.32361436\n",
      " 0.8498619  0.82540256 0.3036092  0.4083229  0.3972185  0.13280317\n",
      " 0.31795925 0.18646395 0.19005997 0.35974035 0.42530057 0.31858668\n",
      " 0.2733151  0.20643829 0.3098142  0.30559266 0.18019663 0.3750283\n",
      " 0.6130322  0.45910063 0.1185532  0.27300897 0.13402069 0.76067996\n",
      " 0.6834575  0.6483979  0.5237019  0.17444725 0.20827043 0.11482891\n",
      " 0.40492868 0.09963701 0.120933   0.20111357 0.12807307 0.7679113\n",
      " 0.16828826 0.12726958 0.17943479 0.46519476 0.4656422  0.8712001\n",
      " 0.59104615 0.06578835]\n"
     ]
    }
   ],
   "source": [
    "# load the XGB model from disk, need to load 1st column as index\n",
    "# xTest = pd.read_csv(r\"C:\\Users\\kuangj\\Desktop\\Python\\Credit\\xTest.csv\",index_col=0)\n",
    "filename = 'XGB2.model'\n",
    "load_xgb2 = joblib.load(filename)\n",
    "load_xgb2_prob=load_xgb2.predict_proba(xTest)[:,1]\n",
    "print(xgb2_prob)\n",
    "print(load_xgb2_prob)"
   ]
  },
  {
   "cell_type": "code",
   "execution_count": 39,
   "metadata": {},
   "outputs": [
    {
     "name": "stdout",
     "output_type": "stream",
     "text": [
      "[11:32:00] Tree method is selected to be 'hist', which uses a single updater grow_fast_histmaker.\n",
      "[11:32:12] Tree method is selected to be 'hist', which uses a single updater grow_fast_histmaker.\n",
      "[11:32:39] Tree method is selected to be 'hist', which uses a single updater grow_fast_histmaker.\n",
      "[11:33:21] Tree method is selected to be 'hist', which uses a single updater grow_fast_histmaker.\n",
      "[11:33:30] Tree method is selected to be 'hist', which uses a single updater grow_fast_histmaker.\n",
      "[11:33:53] Tree method is selected to be 'hist', which uses a single updater grow_fast_histmaker.\n",
      "[11:34:34] Tree method is selected to be 'hist', which uses a single updater grow_fast_histmaker.\n",
      "[11:34:41] Tree method is selected to be 'hist', which uses a single updater grow_fast_histmaker.\n",
      "[11:35:06] Tree method is selected to be 'hist', which uses a single updater grow_fast_histmaker.\n",
      "[11:35:50] Tree method is selected to be 'hist', which uses a single updater grow_fast_histmaker.\n",
      "[11:35:58] Tree method is selected to be 'hist', which uses a single updater grow_fast_histmaker.\n",
      "[11:36:26] Tree method is selected to be 'hist', which uses a single updater grow_fast_histmaker.\n",
      "[11:37:12] Tree method is selected to be 'hist', which uses a single updater grow_fast_histmaker.\n",
      "[11:37:20] Tree method is selected to be 'hist', which uses a single updater grow_fast_histmaker.\n",
      "[11:37:43] Tree method is selected to be 'hist', which uses a single updater grow_fast_histmaker.\n",
      "[11:38:24] Tree method is selected to be 'hist', which uses a single updater grow_fast_histmaker.\n",
      "[11:38:33] Tree method is selected to be 'hist', which uses a single updater grow_fast_histmaker.\n",
      "[11:38:56] Tree method is selected to be 'hist', which uses a single updater grow_fast_histmaker.\n"
     ]
    },
    {
     "data": {
      "text/plain": [
       "<module 'matplotlib.pyplot' from 'C:\\\\Users\\\\kuangj\\\\AppData\\\\Local\\\\Continuum\\\\anaconda3\\\\lib\\\\site-packages\\\\matplotlib\\\\pyplot.py'>"
      ]
     },
     "execution_count": 39,
     "metadata": {},
     "output_type": "execute_result"
    },
    {
     "data": {
      "image/png": "[encoded data removed]",
      "text/plain": [
       "<Figure size 432x288 with 1 Axes>"
      ]
     },
     "metadata": {},
     "output_type": "display_data"
    }
   ],
   "source": [
    "# Learning Curves\n",
    "c=[0.1,0.5,1.0]\n",
    "cv=3\n",
    "model=xgbm2\n",
    "score='f1'\n",
    "train_sizes, train_scores, valid_scores = learning_curve(model, xTrain, yTrain, train_sizes=c, cv=cv)\n",
    "title = \"Learning Curves Linear\"\n",
    "plot_learning_curve(model, title,X=xTrain, y=yTrain,train_sizes=c,cv=cv,scoring=score,ylim=(0.0, 1.01))"
   ]
  },
  {
   "cell_type": "code",
   "execution_count": 40,
   "metadata": {},
   "outputs": [
    {
     "data": {
      "image/png": "[encoded data removed]",
      "text/plain": [
       "<Figure size 1440x1800 with 1 Axes>"
      ]
     },
     "metadata": {},
     "output_type": "display_data"
    }
   ],
   "source": [
    "feats = {} # a dict to hold feature_name: feature_importance\n",
    "for feature, importance in zip(xTrain.columns, xgbm2.feature_importances_):\n",
    "    feats[feature] = importance #add the name/value pair \n",
    "importances = pd.DataFrame.from_dict(feats, orient='index').rename(columns={0: 'XGB-importance'})\n",
    "# importances.sort_values(by=['Gini-importance'],ascending=True).plot(kind='bar', rot=45)\n",
    "importances=importances.sort_values(by=['XGB-importance'],ascending=False)\n",
    "importances['XGB-importance']=importances['XGB-importance']*100/importances['XGB-importance'].iloc[0]\n",
    "importances.to_csv('xgb_checkimpt.csv',index=True)\n",
    "\n",
    "fig, ax = plt.subplots(1, 1, figsize=(20, 25))\n",
    "plot_importance(xgbm2, max_num_features=10,height=0.2, ax=ax)\n",
    "pyplot.show()"
   ]
  },
  {
   "cell_type": "code",
   "execution_count": 41,
   "metadata": {},
   "outputs": [
    {
     "name": "stdout",
     "output_type": "stream",
     "text": [
      "              precision    recall  f1-score   support\n",
      "\n",
      "           0       0.97      0.70      0.81       283\n",
      "           1       0.18      0.76      0.29        25\n",
      "\n",
      "   micro avg       0.70      0.70      0.70       308\n",
      "   macro avg       0.58      0.73      0.55       308\n",
      "weighted avg       0.91      0.70      0.77       308\n",
      "\n",
      "Max F1 0.4255319148936171\n"
     ]
    },
    {
     "data": {
      "image/png": "[encoded data removed]",
      "text/plain": [
       "<Figure size 432x288 with 1 Axes>"
      ]
     },
     "metadata": {},
     "output_type": "display_data"
    }
   ],
   "source": [
    "print(classification_report(yTest, xgb2_pred))\n",
    "precision, recall, thresholds = precision_recall_curve(y_true=yTest['TARGET'], probas_pred=xgb2_prob, pos_label=1)\n",
    "print('Max F1',max((2*precision*recall)/(precision+recall)))\n",
    "plot_prec_recall_vs_tresh(precision, recall, thresholds)\n",
    "plt.show()"
   ]
  },
  {
   "cell_type": "markdown",
   "metadata": {},
   "source": [
    "# Logistic Regression"
   ]
  },
  {
   "cell_type": "code",
   "execution_count": 42,
   "metadata": {},
   "outputs": [],
   "source": [
    "LogReg = LogisticRegression(class_weight='balanced',C=0.3)\n",
    "LogRegCV = LogisticRegression(class_weight='balanced')\n",
    "logmodel=LogReg.fit(xTrain, yTrain)\n",
    "log_pred = logmodel.predict(xTest)\n",
    "log_prob = logmodel.predict_proba(xTest)[:, 1]"
   ]
  },
  {
   "cell_type": "code",
   "execution_count": 43,
   "metadata": {},
   "outputs": [
    {
     "name": "stdout",
     "output_type": "stream",
     "text": [
      "[[ 17  91]\n",
      " [  8 192]]\n",
      "F1: 0.2556390977443609\n",
      "AUC: 0.679\n",
      "              precision    recall  f1-score   support\n",
      "\n",
      "           0       0.96      0.68      0.80       283\n",
      "           1       0.16      0.68      0.26        25\n",
      "\n",
      "   micro avg       0.68      0.68      0.68       308\n",
      "   macro avg       0.56      0.68      0.53       308\n",
      "weighted avg       0.89      0.68      0.75       308\n",
      "\n"
     ]
    }
   ],
   "source": [
    "matrix_log=confusion_matrix(yTest,log_pred,labels=[1,0])\n",
    "tp, fn, fp, tn = confusion_matrix(yTest,log_pred,labels=[1,0]).ravel()\n",
    "print(matrix_log.T)\n",
    "f1 = f1_score(yTest,log_pred,labels=[1,0])\n",
    "print('F1:',f1)\n",
    "# calculate AUC\n",
    "auc = roc_auc_score(yTest,log_pred)\n",
    "print('AUC: %.3f' % auc)\n",
    "print(classification_report(yTest, log_pred))"
   ]
  },
  {
   "cell_type": "code",
   "execution_count": 44,
   "metadata": {},
   "outputs": [
    {
     "name": "stdout",
     "output_type": "stream",
     "text": [
      "Fitting 2 folds for each of 2 candidates, totalling 4 fits\n"
     ]
    },
    {
     "name": "stderr",
     "output_type": "stream",
     "text": [
      "[Parallel(n_jobs=1)]: Using backend SequentialBackend with 1 concurrent workers.\n",
      "[Parallel(n_jobs=1)]: Done   4 out of   4 | elapsed:   48.3s finished\n"
     ]
    },
    {
     "data": {
      "text/plain": [
       "GridSearchCV(cv=2, error_score='raise-deprecating',\n",
       "       estimator=LogisticRegression(C=1.0, class_weight='balanced', dual=False,\n",
       "          fit_intercept=True, intercept_scaling=1, max_iter=100,\n",
       "          multi_class='warn', n_jobs=None, penalty='l2', random_state=None,\n",
       "          solver='warn', tol=0.0001, verbose=0, warm_start=False),\n",
       "       fit_params=None, iid='warn', n_jobs=None,\n",
       "       param_grid={'C': [0.3, 1]}, pre_dispatch='2*n_jobs', refit=True,\n",
       "       return_train_score='warn',\n",
       "       scoring=make_scorer(f1_score, pos_label=1), verbose=1)"
      ]
     },
     "execution_count": 44,
     "metadata": {},
     "output_type": "execute_result"
    }
   ],
   "source": [
    "# Gridsearch for the best regularization C\n",
    "f1_scorer = make_scorer(f1_score, pos_label=1)\n",
    "nr_cv=2\n",
    "# score_calc = ['f1']\n",
    "parameters = {'C':[0.3,1]}\n",
    "grid_log = GridSearchCV(LogRegCV, parameters, cv=nr_cv, scoring = f1_scorer,verbose=1)\n",
    "grid_log.fit(xTrain, yTrain)"
   ]
  },
  {
   "cell_type": "code",
   "execution_count": 45,
   "metadata": {},
   "outputs": [
    {
     "name": "stdout",
     "output_type": "stream",
     "text": [
      "Best Score is: 0.257256848684854\n",
      "Best Params is: {'C': 1}\n"
     ]
    }
   ],
   "source": [
    "print('Best Score is:',grid_log.best_score_)\n",
    "print('Best Params is:',grid_log.best_params_)"
   ]
  },
  {
   "cell_type": "code",
   "execution_count": 46,
   "metadata": {},
   "outputs": [
    {
     "name": "stdout",
     "output_type": "stream",
     "text": [
      "Max F1 0.4528301886792452\n"
     ]
    },
    {
     "data": {
      "image/png": "[encoded data removed]",
      "text/plain": [
       "<Figure size 432x288 with 1 Axes>"
      ]
     },
     "metadata": {},
     "output_type": "display_data"
    }
   ],
   "source": [
    "precision, recall, thresholds = precision_recall_curve(y_true=yTest['TARGET'], probas_pred=log_prob, pos_label=1)\n",
    "print('Max F1',max((2*precision*recall)/(precision+recall)))\n",
    "plot_prec_recall_vs_tresh(precision, recall, thresholds)\n",
    "plt.show()"
   ]
  },
  {
   "cell_type": "code",
   "execution_count": 47,
   "metadata": {},
   "outputs": [
    {
     "data": {
      "image/png": "[encoded data removed]",
      "text/plain": [
       "<Figure size 432x288 with 1 Axes>"
      ]
     },
     "metadata": {},
     "output_type": "display_data"
    }
   ],
   "source": [
    "plot_prec_recall(precision, recall, thresholds)\n",
    "plt.show()"
   ]
  },
  {
   "cell_type": "code",
   "execution_count": 48,
   "metadata": {},
   "outputs": [],
   "source": [
    "# fpr, tpr, thresholds = roc_curve(yTest['TARGET'],logprobs,pos_label=1)\n",
    "# # plot no skill\n",
    "# pyplot.plot([0, 1], [0, 1], linestyle='--')\n",
    "# # plot the roc curve for the model\n",
    "# pyplot.plot(fpr, tpr, marker='.')\n",
    "# # show the plot\n",
    "# pyplot.show()"
   ]
  },
  {
   "cell_type": "code",
   "execution_count": 49,
   "metadata": {},
   "outputs": [],
   "source": [
    "# #adjust\n",
    "# yPred_Log_Adj = np.where(logprob[:,1] > 0.65, 1, 0)\n",
    "# matrix_log=confusion_matrix(yTest,yPred_Log_Adj,labels=[1,0]).T\n",
    "# matrix_log"
   ]
  },
  {
   "cell_type": "code",
   "execution_count": 50,
   "metadata": {},
   "outputs": [],
   "source": [
    "# logmodel.score(xTest, yTest)"
   ]
  },
  {
   "cell_type": "markdown",
   "metadata": {},
   "source": [
    "# Random Forest"
   ]
  },
  {
   "cell_type": "code",
   "execution_count": 51,
   "metadata": {},
   "outputs": [
    {
     "name": "stderr",
     "output_type": "stream",
     "text": [
      "C:\\Users\\kuangj\\AppData\\Local\\Continuum\\anaconda3\\lib\\site-packages\\ipykernel_launcher.py:2: DataConversionWarning: A column-vector y was passed when a 1d array was expected. Please change the shape of y to (n_samples,), for example using ravel().\n",
      "  \n",
      "[Parallel(n_jobs=-1)]: Using backend ThreadingBackend with 4 concurrent workers.\n",
      "[Parallel(n_jobs=-1)]: Done  42 tasks      | elapsed:   30.0s\n",
      "[Parallel(n_jobs=-1)]: Done 192 tasks      | elapsed:  2.2min\n",
      "[Parallel(n_jobs=-1)]: Done 200 out of 200 | elapsed:  2.3min finished\n",
      "[Parallel(n_jobs=4)]: Using backend ThreadingBackend with 4 concurrent workers.\n",
      "[Parallel(n_jobs=4)]: Done  42 tasks      | elapsed:    0.0s\n",
      "[Parallel(n_jobs=4)]: Done 192 tasks      | elapsed:    0.0s\n",
      "[Parallel(n_jobs=4)]: Done 200 out of 200 | elapsed:    0.0s finished\n",
      "[Parallel(n_jobs=4)]: Using backend ThreadingBackend with 4 concurrent workers.\n",
      "[Parallel(n_jobs=4)]: Done  42 tasks      | elapsed:    0.0s\n"
     ]
    },
    {
     "name": "stdout",
     "output_type": "stream",
     "text": [
      "              precision    recall  f1-score   support\n",
      "\n",
      "           0       0.92      1.00      0.96       283\n",
      "           1       0.00      0.00      0.00        25\n",
      "\n",
      "   micro avg       0.92      0.92      0.92       308\n",
      "   macro avg       0.46      0.50      0.48       308\n",
      "weighted avg       0.84      0.92      0.88       308\n",
      "\n"
     ]
    },
    {
     "name": "stderr",
     "output_type": "stream",
     "text": [
      "[Parallel(n_jobs=4)]: Done 192 tasks      | elapsed:    0.0s\n",
      "[Parallel(n_jobs=4)]: Done 200 out of 200 | elapsed:    0.0s finished\n"
     ]
    }
   ],
   "source": [
    "rf = RandomForestClassifier(n_estimators = 200, verbose = 1, n_jobs = -1,class_weight='balanced')\n",
    "rf.fit(xTrain, yTrain)\n",
    "rf_pred = rf.predict(xTest)\n",
    "rf_prob = rf.predict_proba(xTest)[:, 1]\n",
    "print(classification_report(yTest, rf_pred))"
   ]
  },
  {
   "cell_type": "code",
   "execution_count": 52,
   "metadata": {},
   "outputs": [
    {
     "name": "stdout",
     "output_type": "stream",
     "text": [
      "Max F1: 0.3859649122807018\n"
     ]
    },
    {
     "data": {
      "image/png": "[encoded data removed]",
      "text/plain": [
       "<Figure size 432x288 with 1 Axes>"
      ]
     },
     "metadata": {},
     "output_type": "display_data"
    }
   ],
   "source": [
    "precision, recall, thresholds = precision_recall_curve(y_true=yTest['TARGET'],probas_pred=rf_prob,pos_label=1)\n",
    "print('Max F1:',max((2*precision*recall)/(precision+recall)))\n",
    "plot_prec_recall_vs_tresh(precision, recall, thresholds)\n",
    "plt.show()"
   ]
  },
  {
   "cell_type": "code",
   "execution_count": 53,
   "metadata": {},
   "outputs": [],
   "source": [
    "feats = {} # a dict to hold feature_name: feature_importance\n",
    "for feature, importance in zip(xTrain.columns, rf.feature_importances_):\n",
    "    feats[feature] = importance #add the name/value pair \n",
    "\n",
    "importances = pd.DataFrame.from_dict(feats, orient='index').rename(columns={0: 'Gini-importance'})\n",
    "# importances.sort_values(by=['Gini-importance'],ascending=True).plot(kind='bar', rot=45)\n",
    "importances=importances.sort_values(by=['Gini-importance'],ascending=False)\n",
    "importances['Gini-importance']=importances['Gini-importance']*100/importances['Gini-importance'].iloc[0]\n",
    "importances.to_csv('rf_checkimpt.csv',index=True)"
   ]
  },
  {
   "cell_type": "markdown",
   "metadata": {},
   "source": [
    "# Neural Network"
   ]
  },
  {
   "cell_type": "code",
   "execution_count": 54,
   "metadata": {},
   "outputs": [
    {
     "name": "stdout",
     "output_type": "stream",
     "text": [
      "              precision    recall  f1-score   support\n",
      "\n",
      "           0       0.92      1.00      0.96       283\n",
      "           1       0.00      0.00      0.00        25\n",
      "\n",
      "   micro avg       0.92      0.92      0.92       308\n",
      "   macro avg       0.46      0.50      0.48       308\n",
      "weighted avg       0.84      0.92      0.88       308\n",
      "\n"
     ]
    }
   ],
   "source": [
    "# NN need scale to 0~1\n",
    "NNclf = MLPClassifier(solver='sgd',hidden_layer_sizes=(6,),alpha=0.0001,activation='logistic',batch_size='auto',random_state=1)\n",
    "NNclf.fit(xTrain,yTrain)\n",
    "NNclf_pred=NNclf.predict(xTest)\n",
    "NNclf_prob=NNclf.predict_proba(xTest)[:,1]\n",
    "print(classification_report(yTest, NNclf_pred))"
   ]
  },
  {
   "cell_type": "code",
   "execution_count": 55,
   "metadata": {},
   "outputs": [
    {
     "name": "stdout",
     "output_type": "stream",
     "text": [
      "Max F1: 0.4528301886792452\n"
     ]
    },
    {
     "data": {
      "image/png": "[encoded data removed]",
      "text/plain": [
       "<Figure size 432x288 with 1 Axes>"
      ]
     },
     "metadata": {},
     "output_type": "display_data"
    }
   ],
   "source": [
    "precision, recall, thresholds = precision_recall_curve(y_true=yTest['TARGET'], probas_pred=NNclf_prob,pos_label=1)\n",
    "print('Max F1:',max((2*precision*recall)/(precision+recall)))\n",
    "plot_prec_recall_vs_tresh(precision, recall, thresholds)\n",
    "plt.show()"
   ]
  },
  {
   "cell_type": "markdown",
   "metadata": {},
   "source": [
    "# Final Production"
   ]
  },
  {
   "cell_type": "code",
   "execution_count": 66,
   "metadata": {},
   "outputs": [
    {
     "name": "stderr",
     "output_type": "stream",
     "text": [
      "[Parallel(n_jobs=4)]: Using backend ThreadingBackend with 4 concurrent workers.\n",
      "[Parallel(n_jobs=4)]: Done  42 tasks      | elapsed:    0.5s\n",
      "[Parallel(n_jobs=4)]: Done 192 tasks      | elapsed:    2.2s\n",
      "[Parallel(n_jobs=4)]: Done 200 out of 200 | elapsed:    2.2s finished\n"
     ]
    },
    {
     "data": {
      "text/html": [
       "<div>\n",
       "<style scoped>\n",
       "    .dataframe tbody tr th:only-of-type {\n",
       "        vertical-align: middle;\n",
       "    }\n",
       "\n",
       "    .dataframe tbody tr th {\n",
       "        vertical-align: top;\n",
       "    }\n",
       "\n",
       "    .dataframe thead th {\n",
       "        text-align: right;\n",
       "    }\n",
       "</style>\n",
       "<table border=\"1\" class=\"dataframe\">\n",
       "  <thead>\n",
       "    <tr style=\"text-align: right;\">\n",
       "      <th></th>\n",
       "      <th>ID</th>\n",
       "      <th>Log</th>\n",
       "      <th>RF</th>\n",
       "      <th>NN</th>\n",
       "      <th>XGB</th>\n",
       "      <th>LGB</th>\n",
       "    </tr>\n",
       "  </thead>\n",
       "  <tbody>\n",
       "    <tr>\n",
       "      <th>0</th>\n",
       "      <td>100001</td>\n",
       "      <td>0.416923</td>\n",
       "      <td>0.080</td>\n",
       "      <td>0.055148</td>\n",
       "      <td>0.256051</td>\n",
       "      <td>0.320574</td>\n",
       "    </tr>\n",
       "    <tr>\n",
       "      <th>1</th>\n",
       "      <td>100005</td>\n",
       "      <td>0.738280</td>\n",
       "      <td>0.150</td>\n",
       "      <td>0.201018</td>\n",
       "      <td>0.705357</td>\n",
       "      <td>0.723799</td>\n",
       "    </tr>\n",
       "    <tr>\n",
       "      <th>2</th>\n",
       "      <td>100013</td>\n",
       "      <td>0.294808</td>\n",
       "      <td>0.035</td>\n",
       "      <td>0.024979</td>\n",
       "      <td>0.133481</td>\n",
       "      <td>0.161851</td>\n",
       "    </tr>\n",
       "    <tr>\n",
       "      <th>3</th>\n",
       "      <td>100028</td>\n",
       "      <td>0.357755</td>\n",
       "      <td>0.050</td>\n",
       "      <td>0.060240</td>\n",
       "      <td>0.428778</td>\n",
       "      <td>0.378847</td>\n",
       "    </tr>\n",
       "    <tr>\n",
       "      <th>4</th>\n",
       "      <td>100038</td>\n",
       "      <td>0.562598</td>\n",
       "      <td>0.230</td>\n",
       "      <td>0.119736</td>\n",
       "      <td>0.661424</td>\n",
       "      <td>0.637157</td>\n",
       "    </tr>\n",
       "  </tbody>\n",
       "</table>\n",
       "</div>"
      ],
      "text/plain": [
       "       ID       Log     RF        NN       XGB       LGB\n",
       "0  100001  0.416923  0.080  0.055148  0.256051  0.320574\n",
       "1  100005  0.738280  0.150  0.201018  0.705357  0.723799\n",
       "2  100013  0.294808  0.035  0.024979  0.133481  0.161851\n",
       "3  100028  0.357755  0.050  0.060240  0.428778  0.378847\n",
       "4  100038  0.562598  0.230  0.119736  0.661424  0.637157"
      ]
     },
     "execution_count": 66,
     "metadata": {},
     "output_type": "execute_result"
    }
   ],
   "source": [
    "log_prob = logmodel.predict_proba(test_sc)[:, 1]\n",
    "rf_prob = rf.predict_proba(test_sc)[:, 1]\n",
    "NNclf_prob = NNclf.predict_proba(test_sc)[:,1]\n",
    "xgb_prob = xgbm2.predict_proba(test_sc)[:,1]\n",
    "lgb_prob = lgbm2.predict_proba(test_sc)[:,1]\n",
    "\n",
    "probtable=pd.DataFrame({'ID':test_sct['ID'],'Log':log_prob,'RF':rf_prob,'NN':NNclf_prob,'XGB':xgb_prob\n",
    "                       ,'LGB':lgb_prob})\n",
    "prob=(lgb_prob+xgb_prob+NNclf_prob+rf_prob+log_prob)/5\n",
    "probtable.head()"
   ]
  },
  {
   "cell_type": "code",
   "execution_count": 65,
   "metadata": {},
   "outputs": [],
   "source": [
    "temp=pd.DataFrame(prob,columns=['TARGET'])\n",
    "submit=pd.concat([test_sct['ID'],temp['TARGET']], axis=1)\n",
    "submit=submit.rename(columns = {'ID':'SK_ID_CURR'})\n",
    "submit.to_csv('submit_temp.csv',index=False)"
   ]
  },
  {
   "cell_type": "code",
   "execution_count": 60,
   "metadata": {},
   "outputs": [],
   "source": [
    "# param_grid = {'C': [0.001, 0.01, 0.1, 1, 10, 100, 1000] }\n",
    "# clf = GridSearchCV(LogisticRegression(penalty='l2'), param_grid)\n",
    "# GridSearchCV(cv=None,\n",
    "#              estimator=LogisticRegression(C=1.0, intercept_scaling=1,   \n",
    "#                dual=False, fit_intercept=True, penalty='l2', tol=0.0001),\n",
    "#              param_grid={'C': [0.001, 0.01, 0.1, 1, 10, 100, 1000]})"
   ]
  },
  {
   "cell_type": "code",
   "execution_count": 61,
   "metadata": {},
   "outputs": [],
   "source": [
    "# plt.figure()\n",
    "# plot_confusion_matrix(matrix_log, classes=class_names,\n",
    "#                       title='Confusion matrix, without normalization')"
   ]
  }
 ],
 "metadata": {
  "kernelspec": {
   "display_name": "Python 3",
   "language": "python",
   "name": "python3"
  },
  "language_info": {
   "codemirror_mode": {
    "name": "ipython",
    "version": 3
   },
   "file_extension": ".py",
   "mimetype": "text/x-python",
   "name": "python",
   "nbconvert_exporter": "python",
   "pygments_lexer": "ipython3",
   "version": "3.7.0"
  }
 },
 "nbformat": 4,
 "nbformat_minor": 2
}
