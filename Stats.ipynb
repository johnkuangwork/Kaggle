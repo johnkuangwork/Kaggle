{
 "cells": [
  {
   "cell_type": "code",
   "execution_count": 1,
   "metadata": {},
   "outputs": [],
   "source": [
    "# Base\n",
    "import pandas as pd\n",
    "import numpy as np\n",
    "import random as rnd\n",
    "from math import floor\n",
    "import pickle\n",
    "from scipy.stats import *\n",
    "from scipy.special import stdtr\n",
    "from Myfunctions import *\n",
    "import statsmodels.api as sm\n",
    "from statsmodels.formula.api import ols\n",
    "import researchpy as rp\n",
    "from statsmodels.stats.multicomp import MultiComparison,pairwise_tukeyhsd\n",
    "\n",
    "# visualization\n",
    "import seaborn as sns\n",
    "import matplotlib.pyplot as plt\n",
    "from matplotlib import pyplot\n",
    "from scipy import stats\n",
    "from scipy.stats import norm\n",
    "%matplotlib inline\n",
    "\n",
    "import warnings\n",
    "def ignore_warn(*args, **kwargs):\n",
    "    pass\n",
    "warnings.warn = ignore_warn #ignore annoying warning (from sklearn and seaborn)\n"
   ]
  },
  {
   "cell_type": "code",
   "execution_count": 2,
   "metadata": {},
   "outputs": [
    {
     "name": "stdout",
     "output_type": "stream",
     "text": [
      "\n",
      "\n"
     ]
    },
    {
     "data": {
      "text/html": [
       "<div>\n",
       "<style scoped>\n",
       "    .dataframe tbody tr th:only-of-type {\n",
       "        vertical-align: middle;\n",
       "    }\n",
       "\n",
       "    .dataframe tbody tr th {\n",
       "        vertical-align: top;\n",
       "    }\n",
       "\n",
       "    .dataframe thead th {\n",
       "        text-align: right;\n",
       "    }\n",
       "</style>\n",
       "<table border=\"1\" class=\"dataframe\">\n",
       "  <thead>\n",
       "    <tr style=\"text-align: right;\">\n",
       "      <th></th>\n",
       "      <th>Variable</th>\n",
       "      <th>N</th>\n",
       "      <th>Mean</th>\n",
       "      <th>SD</th>\n",
       "      <th>SE</th>\n",
       "      <th>95% Conf.</th>\n",
       "      <th>Interval</th>\n",
       "    </tr>\n",
       "  </thead>\n",
       "  <tbody>\n",
       "    <tr>\n",
       "      <th>0</th>\n",
       "      <td>libido</td>\n",
       "      <td>15.0</td>\n",
       "      <td>3.466667</td>\n",
       "      <td>1.76743</td>\n",
       "      <td>0.456349</td>\n",
       "      <td>2.487896</td>\n",
       "      <td>4.445437</td>\n",
       "    </tr>\n",
       "  </tbody>\n",
       "</table>\n",
       "</div>"
      ],
      "text/plain": [
       "  Variable     N      Mean       SD        SE  95% Conf.  Interval\n",
       "0   libido  15.0  3.466667  1.76743  0.456349   2.487896  4.445437"
      ]
     },
     "execution_count": 2,
     "metadata": {},
     "output_type": "execute_result"
    }
   ],
   "source": [
    "# ttest = pd.read_csv(r\"C:\\Users\\kuangj\\Desktop\\Python\\StatTest\\t-test.csv\")\n",
    "ttest2 = pd.read_csv(r\"C:\\Users\\kuangj\\Desktop\\Python\\StatTest\\t-test2.csv\")\n",
    "twowayanova = pd.read_csv(r\"C:\\Users\\kuangj\\Desktop\\Python\\StatTest\\ANOVA.csv\")\n",
    "df = pd.read_csv(\"https://raw.githubusercontent.com/Opensourcefordatascience/Data-sets/master/difficile.csv\")\n",
    "\n",
    "df.drop('person', axis= 1, inplace= True)\n",
    "# Recoding value from numeric to string\n",
    "df['dose'].replace({1: 'placebo', 2: 'low', 3: 'high'}, inplace= True)\n",
    "# Gettin summary statistics\n",
    "rp.summary_cont(df['libido'])"
   ]
  },
  {
   "cell_type": "markdown",
   "metadata": {},
   "source": [
    "# T Test"
   ]
  },
  {
   "cell_type": "code",
   "execution_count": 3,
   "metadata": {},
   "outputs": [],
   "source": [
    "plevel=0.05"
   ]
  },
  {
   "cell_type": "code",
   "execution_count": 4,
   "metadata": {},
   "outputs": [
    {
     "name": "stdout",
     "output_type": "stream",
     "text": [
      "ttest_ind: t = -1.52806  p = 0.17736\n",
      "50.57142857142857\n",
      "Assume the Hypo that they are the same\n"
     ]
    }
   ],
   "source": [
    "# Two tail test - assume independent pair = unpair\n",
    "n1='Male'\n",
    "n2='Female'\n",
    "p1=ttest2[n1]\n",
    "p2=ttest2[n2]\n",
    "\n",
    "p1=p1[~np.isnan(p1)]\n",
    "p2=p2[~np.isnan(p2)]\n",
    "\n",
    "t, p=ttest_1samp(p1,70)\n",
    "print(\"ttest_ind: t = %g  p = %g\" % (t, p))\n",
    "print(p1.mean())\n",
    "print('Assume the Hypo that they are the same')\n"
   ]
  },
  {
   "cell_type": "code",
   "execution_count": 5,
   "metadata": {},
   "outputs": [
    {
     "name": "stdout",
     "output_type": "stream",
     "text": [
      "ttest_ind: t = 0.120126  p = 0.908305\n",
      "One Tail ttest_ind: t = 0.120126  p = 0.454153\n",
      "Mean for Male is : 50.57142857142857 33.63954588901353\n",
      "Mean for Female is : 48.42857142857143 24.480312789785067\n",
      "Ho is:  Male>=Female\n",
      "Ha is:  Male<Female\n",
      "Support Ho:  Male>=Female\n"
     ]
    }
   ],
   "source": [
    "# Two tail test - assume dependent pair = pair\n",
    "n1='Male'\n",
    "n2='Female'\n",
    "p1=ttest2[n1]\n",
    "p2=ttest2[n2]\n",
    "\n",
    "p1=p1[~np.isnan(p1)]\n",
    "p2=p2[~np.isnan(p2)]\n",
    "\n",
    "t, p = ttest_rel(p1, p2,nan_policy='omit')\n",
    "print(\"ttest_ind: t = %g  p = %g\" % (t, p))\n",
    "\n",
    "# One Tail Test\n",
    "Ho = n1 +'>='+n2\n",
    "Ha = n1 +'<'+n2\n",
    "\n",
    "t, p = ttest_rel(p1, p2,nan_policy='omit')\n",
    "print(\"One Tail ttest_ind: t = %g  p = %g\" % (t, p/2))\n",
    "print(\"Mean for\",n1,'is :',p1.mean(),p1.std())\n",
    "print(\"Mean for\",n2,'is :',p2.mean(),p2.std())\n",
    "print('Ho is: ',Ho)\n",
    "print('Ha is: ',Ha)\n",
    "if p<plevel:\n",
    "    print('Support Ha: ',Ha)\n",
    "else:\n",
    "    print('Support Ho: ',Ho )"
   ]
  },
  {
   "cell_type": "code",
   "execution_count": 6,
   "metadata": {},
   "outputs": [
    {
     "name": "stdout",
     "output_type": "stream",
     "text": [
      "ttest_ind: t = 0.136272  p = 0.893866\n",
      "One Tail ttest_ind: t = 0.136272  p = 0.446933\n",
      "Mean for Male is : 50.57142857142857 33.63954588901353\n",
      "Mean for Female is : 48.42857142857143 24.480312789785067\n",
      "Ho is:  Male>=Female\n",
      "Ha is:  Male<Female\n",
      "Support Ho:  Male>=Female\n"
     ]
    }
   ],
   "source": [
    "# Two tail test - assume independent pair = unpair, can have different size\n",
    "n1='Male'\n",
    "n2='Female'\n",
    "p1=ttest2[n1]\n",
    "p2=ttest2[n2]\n",
    "\n",
    "p1=p1[~np.isnan(p1)]\n",
    "p2=p2[~np.isnan(p2)]\n",
    "\n",
    "t, p = ttest_ind(p1, p2,nan_policy='omit')\n",
    "print(\"ttest_ind: t = %g  p = %g\" % (t, p))\n",
    "\n",
    "# One Tail Test\n",
    "Ho = n1 +'>='+n2\n",
    "Ha = n1 +'<'+n2\n",
    "\n",
    "t, p = ttest_ind(p1, p2,nan_policy='omit')\n",
    "print(\"One Tail ttest_ind: t = %g  p = %g\" % (t, p/2))\n",
    "print(\"Mean for\",n1,'is :',p1.mean(),p1.std())\n",
    "print(\"Mean for\",n2,'is :',p2.mean(),p2.std())\n",
    "print('Ho is: ',Ho)\n",
    "print('Ha is: ',Ha)\n",
    "if p<plevel:\n",
    "    print('Support Ha: ',Ha)\n",
    "else:\n",
    "    print('Support Ho: ',Ho )"
   ]
  },
  {
   "cell_type": "markdown",
   "metadata": {},
   "source": [
    "# ANOVA"
   ]
  },
  {
   "cell_type": "code",
   "execution_count": 7,
   "metadata": {},
   "outputs": [
    {
     "name": "stdout",
     "output_type": "stream",
     "text": [
      "One-Way Anova: F = 0.01857  p = 0.893866\n"
     ]
    }
   ],
   "source": [
    "# One Way Anova, assume independent pair = unpair, can have different size\n",
    "n1='Male'\n",
    "n2='Female'\n",
    "p1=ttest2[n1]\n",
    "p2=ttest2[n2]\n",
    "\n",
    "p1=p1[~np.isnan(p1)]\n",
    "p2=p2[~np.isnan(p2)]\n",
    "\n",
    "t, p = f_oneway(p1, p2)\n",
    "print(\"One-Way Anova: F = %g  p = %g\" % (t, p))"
   ]
  },
  {
   "cell_type": "code",
   "execution_count": 8,
   "metadata": {},
   "outputs": [
    {
     "data": {
      "text/html": [
       "<table class=\"simpletable\">\n",
       "<caption>OLS Regression Results</caption>\n",
       "<tr>\n",
       "  <th>Dep. Variable:</th>         <td>libido</td>      <th>  R-squared:         </th> <td>   0.460</td>\n",
       "</tr>\n",
       "<tr>\n",
       "  <th>Model:</th>                   <td>OLS</td>       <th>  Adj. R-squared:    </th> <td>   0.370</td>\n",
       "</tr>\n",
       "<tr>\n",
       "  <th>Method:</th>             <td>Least Squares</td>  <th>  F-statistic:       </th> <td>   5.119</td>\n",
       "</tr>\n",
       "<tr>\n",
       "  <th>Date:</th>             <td>Thu, 10 Jan 2019</td> <th>  Prob (F-statistic):</th>  <td>0.0247</td> \n",
       "</tr>\n",
       "<tr>\n",
       "  <th>Time:</th>                 <td>20:38:33</td>     <th>  Log-Likelihood:    </th> <td> -24.683</td>\n",
       "</tr>\n",
       "<tr>\n",
       "  <th>No. Observations:</th>      <td>    15</td>      <th>  AIC:               </th> <td>   55.37</td>\n",
       "</tr>\n",
       "<tr>\n",
       "  <th>Df Residuals:</th>          <td>    12</td>      <th>  BIC:               </th> <td>   57.49</td>\n",
       "</tr>\n",
       "<tr>\n",
       "  <th>Df Model:</th>              <td>     2</td>      <th>                     </th>     <td> </td>   \n",
       "</tr>\n",
       "<tr>\n",
       "  <th>Covariance Type:</th>      <td>nonrobust</td>    <th>                     </th>     <td> </td>   \n",
       "</tr>\n",
       "</table>\n",
       "<table class=\"simpletable\">\n",
       "<tr>\n",
       "           <td></td>             <th>coef</th>     <th>std err</th>      <th>t</th>      <th>P>|t|</th>  <th>[0.025</th>    <th>0.975]</th>  \n",
       "</tr>\n",
       "<tr>\n",
       "  <th>Intercept</th>          <td>    5.0000</td> <td>    0.627</td> <td>    7.972</td> <td> 0.000</td> <td>    3.634</td> <td>    6.366</td>\n",
       "</tr>\n",
       "<tr>\n",
       "  <th>C(dose)[T.low]</th>     <td>   -1.8000</td> <td>    0.887</td> <td>   -2.029</td> <td> 0.065</td> <td>   -3.732</td> <td>    0.132</td>\n",
       "</tr>\n",
       "<tr>\n",
       "  <th>C(dose)[T.placebo]</th> <td>   -2.8000</td> <td>    0.887</td> <td>   -3.157</td> <td> 0.008</td> <td>   -4.732</td> <td>   -0.868</td>\n",
       "</tr>\n",
       "</table>\n",
       "<table class=\"simpletable\">\n",
       "<tr>\n",
       "  <th>Omnibus:</th>       <td> 2.517</td> <th>  Durbin-Watson:     </th> <td>   2.408</td>\n",
       "</tr>\n",
       "<tr>\n",
       "  <th>Prob(Omnibus):</th> <td> 0.284</td> <th>  Jarque-Bera (JB):  </th> <td>   1.108</td>\n",
       "</tr>\n",
       "<tr>\n",
       "  <th>Skew:</th>          <td> 0.195</td> <th>  Prob(JB):          </th> <td>   0.575</td>\n",
       "</tr>\n",
       "<tr>\n",
       "  <th>Kurtosis:</th>      <td> 1.727</td> <th>  Cond. No.          </th> <td>    3.73</td>\n",
       "</tr>\n",
       "</table><br/><br/>Warnings:<br/>[1] Standard Errors assume that the covariance matrix of the errors is correctly specified."
      ],
      "text/plain": [
       "<class 'statsmodels.iolib.summary.Summary'>\n",
       "\"\"\"\n",
       "                            OLS Regression Results                            \n",
       "==============================================================================\n",
       "Dep. Variable:                 libido   R-squared:                       0.460\n",
       "Model:                            OLS   Adj. R-squared:                  0.370\n",
       "Method:                 Least Squares   F-statistic:                     5.119\n",
       "Date:                Thu, 10 Jan 2019   Prob (F-statistic):             0.0247\n",
       "Time:                        20:38:33   Log-Likelihood:                -24.683\n",
       "No. Observations:                  15   AIC:                             55.37\n",
       "Df Residuals:                      12   BIC:                             57.49\n",
       "Df Model:                           2                                         \n",
       "Covariance Type:            nonrobust                                         \n",
       "======================================================================================\n",
       "                         coef    std err          t      P>|t|      [0.025      0.975]\n",
       "--------------------------------------------------------------------------------------\n",
       "Intercept              5.0000      0.627      7.972      0.000       3.634       6.366\n",
       "C(dose)[T.low]        -1.8000      0.887     -2.029      0.065      -3.732       0.132\n",
       "C(dose)[T.placebo]    -2.8000      0.887     -3.157      0.008      -4.732      -0.868\n",
       "==============================================================================\n",
       "Omnibus:                        2.517   Durbin-Watson:                   2.408\n",
       "Prob(Omnibus):                  0.284   Jarque-Bera (JB):                1.108\n",
       "Skew:                           0.195   Prob(JB):                        0.575\n",
       "Kurtosis:                       1.727   Cond. No.                         3.73\n",
       "==============================================================================\n",
       "\n",
       "Warnings:\n",
       "[1] Standard Errors assume that the covariance matrix of the errors is correctly specified.\n",
       "\"\"\""
      ]
     },
     "execution_count": 8,
     "metadata": {},
     "output_type": "execute_result"
    }
   ],
   "source": [
    "results = ols('libido ~ C(dose)', data=df).fit()\n",
    "results.summary()"
   ]
  },
  {
   "cell_type": "code",
   "execution_count": 9,
   "metadata": {},
   "outputs": [
    {
     "data": {
      "text/html": [
       "<div>\n",
       "<style scoped>\n",
       "    .dataframe tbody tr th:only-of-type {\n",
       "        vertical-align: middle;\n",
       "    }\n",
       "\n",
       "    .dataframe tbody tr th {\n",
       "        vertical-align: top;\n",
       "    }\n",
       "\n",
       "    .dataframe thead th {\n",
       "        text-align: right;\n",
       "    }\n",
       "</style>\n",
       "<table border=\"1\" class=\"dataframe\">\n",
       "  <thead>\n",
       "    <tr style=\"text-align: right;\">\n",
       "      <th></th>\n",
       "      <th>sum_sq</th>\n",
       "      <th>df</th>\n",
       "      <th>F</th>\n",
       "      <th>PR(&gt;F)</th>\n",
       "    </tr>\n",
       "  </thead>\n",
       "  <tbody>\n",
       "    <tr>\n",
       "      <th>C(dose)</th>\n",
       "      <td>20.133333</td>\n",
       "      <td>2.0</td>\n",
       "      <td>5.118644</td>\n",
       "      <td>0.024694</td>\n",
       "    </tr>\n",
       "    <tr>\n",
       "      <th>Residual</th>\n",
       "      <td>23.600000</td>\n",
       "      <td>12.0</td>\n",
       "      <td>NaN</td>\n",
       "      <td>NaN</td>\n",
       "    </tr>\n",
       "  </tbody>\n",
       "</table>\n",
       "</div>"
      ],
      "text/plain": [
       "             sum_sq    df         F    PR(>F)\n",
       "C(dose)   20.133333   2.0  5.118644  0.024694\n",
       "Residual  23.600000  12.0       NaN       NaN"
      ]
     },
     "execution_count": 9,
     "metadata": {},
     "output_type": "execute_result"
    }
   ],
   "source": [
    "aov_table = sm.stats.anova_lm(results, typ=2)\n",
    "aov_table"
   ]
  },
  {
   "cell_type": "code",
   "execution_count": 10,
   "metadata": {},
   "outputs": [
    {
     "name": "stdout",
     "output_type": "stream",
     "text": [
      "Multiple Comparison of Means - Tukey HSD,FWER=0.05\n",
      "==============================================\n",
      "group1  group2 meandiff  lower   upper  reject\n",
      "----------------------------------------------\n",
      " high    low     -1.8   -4.1651  0.5651 False \n",
      " high  placebo   -2.8   -5.1651 -0.4349  True \n",
      " low   placebo   -1.0   -3.3651  1.3651 False \n",
      "----------------------------------------------\n"
     ]
    }
   ],
   "source": [
    "mc = MultiComparison(df['libido'], df['dose'])\n",
    "mc_results = mc.tukeyhsd()\n",
    "print(mc_results)"
   ]
  },
  {
   "cell_type": "markdown",
   "metadata": {},
   "source": [
    "# Two Way ANOVA"
   ]
  },
  {
   "cell_type": "code",
   "execution_count": 11,
   "metadata": {},
   "outputs": [
    {
     "data": {
      "text/html": [
       "<div>\n",
       "<style scoped>\n",
       "    .dataframe tbody tr th:only-of-type {\n",
       "        vertical-align: middle;\n",
       "    }\n",
       "\n",
       "    .dataframe tbody tr th {\n",
       "        vertical-align: top;\n",
       "    }\n",
       "\n",
       "    .dataframe thead th {\n",
       "        text-align: right;\n",
       "    }\n",
       "</style>\n",
       "<table border=\"1\" class=\"dataframe\">\n",
       "  <thead>\n",
       "    <tr style=\"text-align: right;\">\n",
       "      <th></th>\n",
       "      <th>Country</th>\n",
       "      <th>Benefit</th>\n",
       "      <th>Comp</th>\n",
       "      <th>Turnover</th>\n",
       "      <th>Happy</th>\n",
       "      <th>Wellness</th>\n",
       "    </tr>\n",
       "  </thead>\n",
       "  <tbody>\n",
       "    <tr>\n",
       "      <th>0</th>\n",
       "      <td>China</td>\n",
       "      <td>HC</td>\n",
       "      <td>H</td>\n",
       "      <td>17</td>\n",
       "      <td>7</td>\n",
       "      <td>36</td>\n",
       "    </tr>\n",
       "    <tr>\n",
       "      <th>1</th>\n",
       "      <td>China</td>\n",
       "      <td>HC</td>\n",
       "      <td>H</td>\n",
       "      <td>18</td>\n",
       "      <td>1</td>\n",
       "      <td>55</td>\n",
       "    </tr>\n",
       "    <tr>\n",
       "      <th>2</th>\n",
       "      <td>China</td>\n",
       "      <td>HC</td>\n",
       "      <td>L</td>\n",
       "      <td>18</td>\n",
       "      <td>4</td>\n",
       "      <td>38</td>\n",
       "    </tr>\n",
       "    <tr>\n",
       "      <th>3</th>\n",
       "      <td>China</td>\n",
       "      <td>HC</td>\n",
       "      <td>L</td>\n",
       "      <td>11</td>\n",
       "      <td>4</td>\n",
       "      <td>47</td>\n",
       "    </tr>\n",
       "    <tr>\n",
       "      <th>4</th>\n",
       "      <td>China</td>\n",
       "      <td>MC</td>\n",
       "      <td>H</td>\n",
       "      <td>18</td>\n",
       "      <td>7</td>\n",
       "      <td>42</td>\n",
       "    </tr>\n",
       "  </tbody>\n",
       "</table>\n",
       "</div>"
      ],
      "text/plain": [
       "  Country Benefit Comp  Turnover  Happy  Wellness\n",
       "0   China      HC    H        17      7        36\n",
       "1   China      HC    H        18      1        55\n",
       "2   China      HC    L        18      4        38\n",
       "3   China      HC    L        11      4        47\n",
       "4   China      MC    H        18      7        42"
      ]
     },
     "execution_count": 11,
     "metadata": {},
     "output_type": "execute_result"
    }
   ],
   "source": [
    "twowayanova.head()"
   ]
  },
  {
   "cell_type": "code",
   "execution_count": 15,
   "metadata": {},
   "outputs": [
    {
     "name": "stderr",
     "output_type": "stream",
     "text": [
      "C:\\Users\\kuangj\\AppData\\Local\\Continuum\\anaconda3\\lib\\site-packages\\scipy\\stats\\stats.py:1713: FutureWarning: Using a non-tuple sequence for multidimensional indexing is deprecated; use `arr[tuple(seq)]` instead of `arr[seq]`. In the future this will be interpreted as an array index, `arr[np.array(seq)]`, which will result either in an error or a different result.\n",
      "  return np.add.reduce(sorted[indexer] * weights, axis=axis) / sumval\n"
     ]
    },
    {
     "data": {
      "image/png": "[encoded data removed]",
      "text/plain": [
       "<Figure size 432x288 with 1 Axes>"
      ]
     },
     "metadata": {
      "needs_background": "light"
     },
     "output_type": "display_data"
    },
    {
     "data": {
      "image/png": "[encoded data removed]",
      "text/plain": [
       "<Figure size 432x288 with 1 Axes>"
      ]
     },
     "metadata": {
      "needs_background": "light"
     },
     "output_type": "display_data"
    }
   ],
   "source": [
    "sns.distplot(twowayanova['Happy'],fit=norm);\n",
    "fig = plt.figure()\n",
    "res = stats.probplot(twowayanova['Happy'], plot=plt)"
   ]
  },
  {
   "cell_type": "code",
   "execution_count": 12,
   "metadata": {},
   "outputs": [
    {
     "data": {
      "text/html": [
       "<table class=\"simpletable\">\n",
       "<caption>OLS Regression Results</caption>\n",
       "<tr>\n",
       "  <th>Dep. Variable:</th>          <td>Happy</td>      <th>  R-squared:         </th> <td>   0.170</td>\n",
       "</tr>\n",
       "<tr>\n",
       "  <th>Model:</th>                   <td>OLS</td>       <th>  Adj. R-squared:    </th> <td>   0.031</td>\n",
       "</tr>\n",
       "<tr>\n",
       "  <th>Method:</th>             <td>Least Squares</td>  <th>  F-statistic:       </th> <td>   1.225</td>\n",
       "</tr>\n",
       "<tr>\n",
       "  <th>Date:</th>             <td>Thu, 10 Jan 2019</td> <th>  Prob (F-statistic):</th>  <td> 0.322</td> \n",
       "</tr>\n",
       "<tr>\n",
       "  <th>Time:</th>                 <td>20:38:33</td>     <th>  Log-Likelihood:    </th> <td> -80.722</td>\n",
       "</tr>\n",
       "<tr>\n",
       "  <th>No. Observations:</th>      <td>    36</td>      <th>  AIC:               </th> <td>   173.4</td>\n",
       "</tr>\n",
       "<tr>\n",
       "  <th>Df Residuals:</th>          <td>    30</td>      <th>  BIC:               </th> <td>   182.9</td>\n",
       "</tr>\n",
       "<tr>\n",
       "  <th>Df Model:</th>              <td>     5</td>      <th>                     </th>     <td> </td>   \n",
       "</tr>\n",
       "<tr>\n",
       "  <th>Covariance Type:</th>      <td>nonrobust</td>    <th>                     </th>     <td> </td>   \n",
       "</tr>\n",
       "</table>\n",
       "<table class=\"simpletable\">\n",
       "<tr>\n",
       "                <td></td>                   <th>coef</th>     <th>std err</th>      <th>t</th>      <th>P>|t|</th>  <th>[0.025</th>    <th>0.975]</th>  \n",
       "</tr>\n",
       "<tr>\n",
       "  <th>Intercept</th>                     <td>    5.0000</td> <td>    1.019</td> <td>    4.908</td> <td> 0.000</td> <td>    2.919</td> <td>    7.081</td>\n",
       "</tr>\n",
       "<tr>\n",
       "  <th>C(Benefit)[T.LC]</th>              <td>    0.5000</td> <td>    1.441</td> <td>    0.347</td> <td> 0.731</td> <td>   -2.443</td> <td>    3.443</td>\n",
       "</tr>\n",
       "<tr>\n",
       "  <th>C(Benefit)[T.MC]</th>              <td>    1.8333</td> <td>    1.441</td> <td>    1.272</td> <td> 0.213</td> <td>   -1.109</td> <td>    4.776</td>\n",
       "</tr>\n",
       "<tr>\n",
       "  <th>C(Comp)[T.L]</th>                  <td>   -1.1667</td> <td>    1.441</td> <td>   -0.810</td> <td> 0.424</td> <td>   -4.109</td> <td>    1.776</td>\n",
       "</tr>\n",
       "<tr>\n",
       "  <th>C(Benefit)[T.LC]:C(Comp)[T.L]</th> <td>    0.8333</td> <td>    2.038</td> <td>    0.409</td> <td> 0.685</td> <td>   -3.328</td> <td>    4.995</td>\n",
       "</tr>\n",
       "<tr>\n",
       "  <th>C(Benefit)[T.MC]:C(Comp)[T.L]</th> <td>   -1.8333</td> <td>    2.038</td> <td>   -0.900</td> <td> 0.375</td> <td>   -5.995</td> <td>    2.328</td>\n",
       "</tr>\n",
       "</table>\n",
       "<table class=\"simpletable\">\n",
       "<tr>\n",
       "  <th>Omnibus:</th>       <td> 0.960</td> <th>  Durbin-Watson:     </th> <td>   1.912</td>\n",
       "</tr>\n",
       "<tr>\n",
       "  <th>Prob(Omnibus):</th> <td> 0.619</td> <th>  Jarque-Bera (JB):  </th> <td>   0.830</td>\n",
       "</tr>\n",
       "<tr>\n",
       "  <th>Skew:</th>          <td> 0.056</td> <th>  Prob(JB):          </th> <td>   0.660</td>\n",
       "</tr>\n",
       "<tr>\n",
       "  <th>Kurtosis:</th>      <td> 2.265</td> <th>  Cond. No.          </th> <td>    9.77</td>\n",
       "</tr>\n",
       "</table><br/><br/>Warnings:<br/>[1] Standard Errors assume that the covariance matrix of the errors is correctly specified."
      ],
      "text/plain": [
       "<class 'statsmodels.iolib.summary.Summary'>\n",
       "\"\"\"\n",
       "                            OLS Regression Results                            \n",
       "==============================================================================\n",
       "Dep. Variable:                  Happy   R-squared:                       0.170\n",
       "Model:                            OLS   Adj. R-squared:                  0.031\n",
       "Method:                 Least Squares   F-statistic:                     1.225\n",
       "Date:                Thu, 10 Jan 2019   Prob (F-statistic):              0.322\n",
       "Time:                        20:38:33   Log-Likelihood:                -80.722\n",
       "No. Observations:                  36   AIC:                             173.4\n",
       "Df Residuals:                      30   BIC:                             182.9\n",
       "Df Model:                           5                                         \n",
       "Covariance Type:            nonrobust                                         \n",
       "=================================================================================================\n",
       "                                    coef    std err          t      P>|t|      [0.025      0.975]\n",
       "-------------------------------------------------------------------------------------------------\n",
       "Intercept                         5.0000      1.019      4.908      0.000       2.919       7.081\n",
       "C(Benefit)[T.LC]                  0.5000      1.441      0.347      0.731      -2.443       3.443\n",
       "C(Benefit)[T.MC]                  1.8333      1.441      1.272      0.213      -1.109       4.776\n",
       "C(Comp)[T.L]                     -1.1667      1.441     -0.810      0.424      -4.109       1.776\n",
       "C(Benefit)[T.LC]:C(Comp)[T.L]     0.8333      2.038      0.409      0.685      -3.328       4.995\n",
       "C(Benefit)[T.MC]:C(Comp)[T.L]    -1.8333      2.038     -0.900      0.375      -5.995       2.328\n",
       "==============================================================================\n",
       "Omnibus:                        0.960   Durbin-Watson:                   1.912\n",
       "Prob(Omnibus):                  0.619   Jarque-Bera (JB):                0.830\n",
       "Skew:                           0.056   Prob(JB):                        0.660\n",
       "Kurtosis:                       2.265   Cond. No.                         9.77\n",
       "==============================================================================\n",
       "\n",
       "Warnings:\n",
       "[1] Standard Errors assume that the covariance matrix of the errors is correctly specified.\n",
       "\"\"\""
      ]
     },
     "execution_count": 12,
     "metadata": {},
     "output_type": "execute_result"
    }
   ],
   "source": [
    "results = ols('Happy ~ C(Benefit)*C(Comp)', data=twowayanova).fit()\n",
    "results.summary()"
   ]
  },
  {
   "cell_type": "code",
   "execution_count": 13,
   "metadata": {},
   "outputs": [
    {
     "data": {
      "text/html": [
       "<div>\n",
       "<style scoped>\n",
       "    .dataframe tbody tr th:only-of-type {\n",
       "        vertical-align: middle;\n",
       "    }\n",
       "\n",
       "    .dataframe tbody tr th {\n",
       "        vertical-align: top;\n",
       "    }\n",
       "\n",
       "    .dataframe thead th {\n",
       "        text-align: right;\n",
       "    }\n",
       "</style>\n",
       "<table border=\"1\" class=\"dataframe\">\n",
       "  <thead>\n",
       "    <tr style=\"text-align: right;\">\n",
       "      <th></th>\n",
       "      <th>sum_sq</th>\n",
       "      <th>df</th>\n",
       "      <th>F</th>\n",
       "      <th>PR(&gt;F)</th>\n",
       "    </tr>\n",
       "  </thead>\n",
       "  <tbody>\n",
       "    <tr>\n",
       "      <th>C(Benefit)</th>\n",
       "      <td>6.722222</td>\n",
       "      <td>2.0</td>\n",
       "      <td>0.539697</td>\n",
       "      <td>0.588479</td>\n",
       "    </tr>\n",
       "    <tr>\n",
       "      <th>C(Comp)</th>\n",
       "      <td>20.250000</td>\n",
       "      <td>1.0</td>\n",
       "      <td>3.251561</td>\n",
       "      <td>0.081409</td>\n",
       "    </tr>\n",
       "    <tr>\n",
       "      <th>C(Benefit):C(Comp)</th>\n",
       "      <td>11.166667</td>\n",
       "      <td>2.0</td>\n",
       "      <td>0.896521</td>\n",
       "      <td>0.418637</td>\n",
       "    </tr>\n",
       "    <tr>\n",
       "      <th>Residual</th>\n",
       "      <td>186.833333</td>\n",
       "      <td>30.0</td>\n",
       "      <td>NaN</td>\n",
       "      <td>NaN</td>\n",
       "    </tr>\n",
       "  </tbody>\n",
       "</table>\n",
       "</div>"
      ],
      "text/plain": [
       "                        sum_sq    df         F    PR(>F)\n",
       "C(Benefit)            6.722222   2.0  0.539697  0.588479\n",
       "C(Comp)              20.250000   1.0  3.251561  0.081409\n",
       "C(Benefit):C(Comp)   11.166667   2.0  0.896521  0.418637\n",
       "Residual            186.833333  30.0       NaN       NaN"
      ]
     },
     "execution_count": 13,
     "metadata": {},
     "output_type": "execute_result"
    }
   ],
   "source": [
    "aov_table = sm.stats.anova_lm(results, typ=2)\n",
    "aov_table"
   ]
  },
  {
   "cell_type": "code",
   "execution_count": 14,
   "metadata": {},
   "outputs": [
    {
     "name": "stdout",
     "output_type": "stream",
     "text": [
      "Multiple Comparison of Means - Tukey HSD,FWER=0.05\n",
      "============================================\n",
      "group1 group2 meandiff  lower  upper  reject\n",
      "--------------------------------------------\n",
      "  HC     LC    0.9167  -1.6591 3.4924 False \n",
      "  HC     MC    0.9167  -1.6591 3.4924 False \n",
      "  LC     MC     0.0    -2.5758 2.5758 False \n",
      "--------------------------------------------\n"
     ]
    }
   ],
   "source": [
    "mc = MultiComparison(twowayanova['Happy'],twowayanova['Benefit'])\n",
    "mc_results = mc.tukeyhsd()\n",
    "print(mc_results)"
   ]
  },
  {
   "cell_type": "code",
   "execution_count": null,
   "metadata": {},
   "outputs": [],
   "source": []
  }
 ],
 "metadata": {
  "kernelspec": {
   "display_name": "Python 3",
   "language": "python",
   "name": "python3"
  },
  "language_info": {
   "codemirror_mode": {
    "name": "ipython",
    "version": 3
   },
   "file_extension": ".py",
   "mimetype": "text/x-python",
   "name": "python",
   "nbconvert_exporter": "python",
   "pygments_lexer": "ipython3",
   "version": "3.7.0"
  }
 },
 "nbformat": 4,
 "nbformat_minor": 2
}
